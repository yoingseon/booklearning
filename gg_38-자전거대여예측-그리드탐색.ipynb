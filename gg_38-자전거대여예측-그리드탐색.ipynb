{
 "cells": [
  {
   "cell_type": "markdown",
   "metadata": {
    "colab_type": "text",
    "id": "z3sm3tO66_ul"
   },
   "source": [
    "## colab에서 실행\n",
    "\n",
    "## 데이터 https://goo.gl/s8qSL5"
   ]
  },
  {
   "cell_type": "code",
   "execution_count": 1,
   "metadata": {
    "colab": {},
    "colab_type": "code",
    "id": "8pvv5VcZ6_un"
   },
   "outputs": [],
   "source": [
    "import numpy as np\n",
    "import pandas as pd\n",
    "import seaborn as sns\n",
    "import matplotlib.pyplot as plt\n",
    "from sklearn.ensemble import RandomForestRegressor\n",
    "from sklearn.linear_model import LinearRegression\n",
    "from sklearn.tree import DecisionTreeRegressor\n",
    "from sklearn import svm\n",
    "from sklearn.model_selection import cross_val_score, train_test_split\n",
    "from sklearn.metrics import make_scorer\n",
    "%matplotlib inline"
   ]
  },
  {
   "cell_type": "markdown",
   "metadata": {},
   "source": [
    "## colab에서 실행하는 경우 필요한 코드"
   ]
  },
  {
   "cell_type": "code",
   "execution_count": 7,
   "metadata": {
    "colab": {
     "base_uri": "https://localhost:8080/",
     "height": 457
    },
    "colab_type": "code",
    "id": "8Czy7G2I7DnQ",
    "outputId": "327c34bc-3e4a-4769-cbe1-f4d191a0520e"
   },
   "outputs": [
    {
     "name": "stderr",
     "output_type": "stream",
     "text": [
      "  % Total    % Received % Xferd  Average Speed   Time    Time     Time  Current\n",
      "                                 Dload  Upload   Total   Spent    Left  Speed\n",
      "\n",
      "  0     0    0     0    0     0      0      0 --:--:-- --:--:-- --:--:--     0\n",
      "  0     0    0     0    0     0      0      0 --:--:-- --:--:-- --:--:--     0\n",
      "  0     0    0     0    0     0      0      0 --:--:-- --:--:-- --:--:--     0\n",
      "\n",
      "  0     0    0     0    0     0      0      0 --:--:--  0:00:01 --:--:--     0\n",
      "\n",
      "  0     0    0     0    0     0      0      0 --:--:--  0:00:01 --:--:--     0\n",
      "\n",
      "  0     0    0     0    0     0      0      0 --:--:--  0:00:01 --:--:--     0\n",
      "100  643k  100  643k    0     0   289k      0  0:00:02  0:00:02 --:--:--  900k\n"
     ]
    }
   ],
   "source": [
    "# import os, os.path, shutil\n",
    "# if not os.path.exists(\"./data\"):\n",
    "#     os.makedirs(\"./data\")\n",
    "#     https://www.dropbox.com/s/x7igxpgnq669l7y/bike_train.csv\n",
    "!curl -L https://goo.gl/s8qSL5  -o ./data/bike_train.csv"
   ]
  },
  {
   "cell_type": "code",
   "execution_count": 10,
   "metadata": {
    "colab": {
     "base_uri": "https://localhost:8080/",
     "height": 299
    },
    "colab_type": "code",
    "id": "zP5_9eom6_ur",
    "outputId": "3ff4544d-c945-44cd-824e-c7533775ccee"
   },
   "outputs": [
    {
     "data": {
      "text/html": [
       "<div>\n",
       "<style scoped>\n",
       "    .dataframe tbody tr th:only-of-type {\n",
       "        vertical-align: middle;\n",
       "    }\n",
       "\n",
       "    .dataframe tbody tr th {\n",
       "        vertical-align: top;\n",
       "    }\n",
       "\n",
       "    .dataframe thead th {\n",
       "        text-align: right;\n",
       "    }\n",
       "</style>\n",
       "<table border=\"1\" class=\"dataframe\">\n",
       "  <thead>\n",
       "    <tr style=\"text-align: right;\">\n",
       "      <th></th>\n",
       "      <th>0</th>\n",
       "      <th>1</th>\n",
       "      <th>2</th>\n",
       "      <th>3</th>\n",
       "      <th>4</th>\n",
       "    </tr>\n",
       "  </thead>\n",
       "  <tbody>\n",
       "    <tr>\n",
       "      <th>datetime</th>\n",
       "      <td>2011-01-01 00:00:00</td>\n",
       "      <td>2011-01-01 01:00:00</td>\n",
       "      <td>2011-01-01 02:00:00</td>\n",
       "      <td>2011-01-01 03:00:00</td>\n",
       "      <td>2011-01-01 04:00:00</td>\n",
       "    </tr>\n",
       "    <tr>\n",
       "      <th>season</th>\n",
       "      <td>1</td>\n",
       "      <td>1</td>\n",
       "      <td>1</td>\n",
       "      <td>1</td>\n",
       "      <td>1</td>\n",
       "    </tr>\n",
       "    <tr>\n",
       "      <th>holiday</th>\n",
       "      <td>0</td>\n",
       "      <td>0</td>\n",
       "      <td>0</td>\n",
       "      <td>0</td>\n",
       "      <td>0</td>\n",
       "    </tr>\n",
       "    <tr>\n",
       "      <th>workingday</th>\n",
       "      <td>0</td>\n",
       "      <td>0</td>\n",
       "      <td>0</td>\n",
       "      <td>0</td>\n",
       "      <td>0</td>\n",
       "    </tr>\n",
       "    <tr>\n",
       "      <th>weather</th>\n",
       "      <td>1</td>\n",
       "      <td>1</td>\n",
       "      <td>1</td>\n",
       "      <td>1</td>\n",
       "      <td>1</td>\n",
       "    </tr>\n",
       "    <tr>\n",
       "      <th>temp</th>\n",
       "      <td>9.84</td>\n",
       "      <td>9.02</td>\n",
       "      <td>9.02</td>\n",
       "      <td>9.84</td>\n",
       "      <td>9.84</td>\n",
       "    </tr>\n",
       "    <tr>\n",
       "      <th>atemp</th>\n",
       "      <td>14.395</td>\n",
       "      <td>13.635</td>\n",
       "      <td>13.635</td>\n",
       "      <td>14.395</td>\n",
       "      <td>14.395</td>\n",
       "    </tr>\n",
       "    <tr>\n",
       "      <th>humidity</th>\n",
       "      <td>81</td>\n",
       "      <td>80</td>\n",
       "      <td>80</td>\n",
       "      <td>75</td>\n",
       "      <td>75</td>\n",
       "    </tr>\n",
       "    <tr>\n",
       "      <th>windspeed</th>\n",
       "      <td>0</td>\n",
       "      <td>0</td>\n",
       "      <td>0</td>\n",
       "      <td>0</td>\n",
       "      <td>0</td>\n",
       "    </tr>\n",
       "    <tr>\n",
       "      <th>casual</th>\n",
       "      <td>3</td>\n",
       "      <td>8</td>\n",
       "      <td>5</td>\n",
       "      <td>3</td>\n",
       "      <td>0</td>\n",
       "    </tr>\n",
       "    <tr>\n",
       "      <th>registered</th>\n",
       "      <td>13</td>\n",
       "      <td>32</td>\n",
       "      <td>27</td>\n",
       "      <td>10</td>\n",
       "      <td>1</td>\n",
       "    </tr>\n",
       "    <tr>\n",
       "      <th>count</th>\n",
       "      <td>16</td>\n",
       "      <td>40</td>\n",
       "      <td>32</td>\n",
       "      <td>13</td>\n",
       "      <td>1</td>\n",
       "    </tr>\n",
       "  </tbody>\n",
       "</table>\n",
       "</div>"
      ],
      "text/plain": [
       "                              0                    1                    2  \\\n",
       "datetime    2011-01-01 00:00:00  2011-01-01 01:00:00  2011-01-01 02:00:00   \n",
       "season                        1                    1                    1   \n",
       "holiday                       0                    0                    0   \n",
       "workingday                    0                    0                    0   \n",
       "weather                       1                    1                    1   \n",
       "temp                       9.84                 9.02                 9.02   \n",
       "atemp                    14.395               13.635               13.635   \n",
       "humidity                     81                   80                   80   \n",
       "windspeed                     0                    0                    0   \n",
       "casual                        3                    8                    5   \n",
       "registered                   13                   32                   27   \n",
       "count                        16                   40                   32   \n",
       "\n",
       "                              3                    4  \n",
       "datetime    2011-01-01 03:00:00  2011-01-01 04:00:00  \n",
       "season                        1                    1  \n",
       "holiday                       0                    0  \n",
       "workingday                    0                    0  \n",
       "weather                       1                    1  \n",
       "temp                       9.84                 9.84  \n",
       "atemp                    14.395               14.395  \n",
       "humidity                     75                   75  \n",
       "windspeed                     0                    0  \n",
       "casual                        3                    0  \n",
       "registered                   10                    1  \n",
       "count                        13                    1  "
      ]
     },
     "execution_count": 10,
     "metadata": {},
     "output_type": "execute_result"
    }
   ],
   "source": [
    "train = pd.read_csv(\"data/bike_train.csv\", parse_dates=[\"datetime\"])\n",
    "train.head().T"
   ]
  },
  {
   "cell_type": "code",
   "execution_count": 11,
   "metadata": {
    "colab": {
     "base_uri": "https://localhost:8080/",
     "height": 302
    },
    "colab_type": "code",
    "id": "RpDVzVSo6_ux",
    "outputId": "e76e5800-9163-4cba-abdb-9b4124caff30"
   },
   "outputs": [
    {
     "name": "stdout",
     "output_type": "stream",
     "text": [
      "<class 'pandas.core.frame.DataFrame'>\n",
      "RangeIndex: 10886 entries, 0 to 10885\n",
      "Data columns (total 12 columns):\n",
      "datetime      10886 non-null datetime64[ns]\n",
      "season        10886 non-null int64\n",
      "holiday       10886 non-null int64\n",
      "workingday    10886 non-null int64\n",
      "weather       10886 non-null int64\n",
      "temp          10886 non-null float64\n",
      "atemp         10886 non-null float64\n",
      "humidity      10886 non-null int64\n",
      "windspeed     10886 non-null float64\n",
      "casual        10886 non-null int64\n",
      "registered    10886 non-null int64\n",
      "count         10886 non-null int64\n",
      "dtypes: datetime64[ns](1), float64(3), int64(8)\n",
      "memory usage: 1020.6 KB\n"
     ]
    }
   ],
   "source": [
    "train.info()"
   ]
  },
  {
   "cell_type": "code",
   "execution_count": 12,
   "metadata": {},
   "outputs": [
    {
     "data": {
      "text/html": [
       "<div>\n",
       "<style scoped>\n",
       "    .dataframe tbody tr th:only-of-type {\n",
       "        vertical-align: middle;\n",
       "    }\n",
       "\n",
       "    .dataframe tbody tr th {\n",
       "        vertical-align: top;\n",
       "    }\n",
       "\n",
       "    .dataframe thead th {\n",
       "        text-align: right;\n",
       "    }\n",
       "</style>\n",
       "<table border=\"1\" class=\"dataframe\">\n",
       "  <thead>\n",
       "    <tr style=\"text-align: right;\">\n",
       "      <th></th>\n",
       "      <th>season</th>\n",
       "      <th>holiday</th>\n",
       "      <th>workingday</th>\n",
       "      <th>weather</th>\n",
       "      <th>temp</th>\n",
       "      <th>atemp</th>\n",
       "      <th>humidity</th>\n",
       "      <th>windspeed</th>\n",
       "      <th>casual</th>\n",
       "      <th>registered</th>\n",
       "      <th>count</th>\n",
       "    </tr>\n",
       "  </thead>\n",
       "  <tbody>\n",
       "    <tr>\n",
       "      <th>count</th>\n",
       "      <td>10886.000000</td>\n",
       "      <td>10886.000000</td>\n",
       "      <td>10886.000000</td>\n",
       "      <td>10886.000000</td>\n",
       "      <td>10886.00000</td>\n",
       "      <td>10886.000000</td>\n",
       "      <td>10886.000000</td>\n",
       "      <td>10886.000000</td>\n",
       "      <td>10886.000000</td>\n",
       "      <td>10886.000000</td>\n",
       "      <td>10886.000000</td>\n",
       "    </tr>\n",
       "    <tr>\n",
       "      <th>mean</th>\n",
       "      <td>2.506614</td>\n",
       "      <td>0.028569</td>\n",
       "      <td>0.680875</td>\n",
       "      <td>1.418427</td>\n",
       "      <td>20.23086</td>\n",
       "      <td>23.655084</td>\n",
       "      <td>61.886460</td>\n",
       "      <td>12.799395</td>\n",
       "      <td>36.021955</td>\n",
       "      <td>155.552177</td>\n",
       "      <td>191.574132</td>\n",
       "    </tr>\n",
       "    <tr>\n",
       "      <th>std</th>\n",
       "      <td>1.116174</td>\n",
       "      <td>0.166599</td>\n",
       "      <td>0.466159</td>\n",
       "      <td>0.633839</td>\n",
       "      <td>7.79159</td>\n",
       "      <td>8.474601</td>\n",
       "      <td>19.245033</td>\n",
       "      <td>8.164537</td>\n",
       "      <td>49.960477</td>\n",
       "      <td>151.039033</td>\n",
       "      <td>181.144454</td>\n",
       "    </tr>\n",
       "    <tr>\n",
       "      <th>min</th>\n",
       "      <td>1.000000</td>\n",
       "      <td>0.000000</td>\n",
       "      <td>0.000000</td>\n",
       "      <td>1.000000</td>\n",
       "      <td>0.82000</td>\n",
       "      <td>0.760000</td>\n",
       "      <td>0.000000</td>\n",
       "      <td>0.000000</td>\n",
       "      <td>0.000000</td>\n",
       "      <td>0.000000</td>\n",
       "      <td>1.000000</td>\n",
       "    </tr>\n",
       "    <tr>\n",
       "      <th>25%</th>\n",
       "      <td>2.000000</td>\n",
       "      <td>0.000000</td>\n",
       "      <td>0.000000</td>\n",
       "      <td>1.000000</td>\n",
       "      <td>13.94000</td>\n",
       "      <td>16.665000</td>\n",
       "      <td>47.000000</td>\n",
       "      <td>7.001500</td>\n",
       "      <td>4.000000</td>\n",
       "      <td>36.000000</td>\n",
       "      <td>42.000000</td>\n",
       "    </tr>\n",
       "    <tr>\n",
       "      <th>50%</th>\n",
       "      <td>3.000000</td>\n",
       "      <td>0.000000</td>\n",
       "      <td>1.000000</td>\n",
       "      <td>1.000000</td>\n",
       "      <td>20.50000</td>\n",
       "      <td>24.240000</td>\n",
       "      <td>62.000000</td>\n",
       "      <td>12.998000</td>\n",
       "      <td>17.000000</td>\n",
       "      <td>118.000000</td>\n",
       "      <td>145.000000</td>\n",
       "    </tr>\n",
       "    <tr>\n",
       "      <th>75%</th>\n",
       "      <td>4.000000</td>\n",
       "      <td>0.000000</td>\n",
       "      <td>1.000000</td>\n",
       "      <td>2.000000</td>\n",
       "      <td>26.24000</td>\n",
       "      <td>31.060000</td>\n",
       "      <td>77.000000</td>\n",
       "      <td>16.997900</td>\n",
       "      <td>49.000000</td>\n",
       "      <td>222.000000</td>\n",
       "      <td>284.000000</td>\n",
       "    </tr>\n",
       "    <tr>\n",
       "      <th>max</th>\n",
       "      <td>4.000000</td>\n",
       "      <td>1.000000</td>\n",
       "      <td>1.000000</td>\n",
       "      <td>4.000000</td>\n",
       "      <td>41.00000</td>\n",
       "      <td>45.455000</td>\n",
       "      <td>100.000000</td>\n",
       "      <td>56.996900</td>\n",
       "      <td>367.000000</td>\n",
       "      <td>886.000000</td>\n",
       "      <td>977.000000</td>\n",
       "    </tr>\n",
       "  </tbody>\n",
       "</table>\n",
       "</div>"
      ],
      "text/plain": [
       "             season       holiday    workingday       weather         temp  \\\n",
       "count  10886.000000  10886.000000  10886.000000  10886.000000  10886.00000   \n",
       "mean       2.506614      0.028569      0.680875      1.418427     20.23086   \n",
       "std        1.116174      0.166599      0.466159      0.633839      7.79159   \n",
       "min        1.000000      0.000000      0.000000      1.000000      0.82000   \n",
       "25%        2.000000      0.000000      0.000000      1.000000     13.94000   \n",
       "50%        3.000000      0.000000      1.000000      1.000000     20.50000   \n",
       "75%        4.000000      0.000000      1.000000      2.000000     26.24000   \n",
       "max        4.000000      1.000000      1.000000      4.000000     41.00000   \n",
       "\n",
       "              atemp      humidity     windspeed        casual    registered  \\\n",
       "count  10886.000000  10886.000000  10886.000000  10886.000000  10886.000000   \n",
       "mean      23.655084     61.886460     12.799395     36.021955    155.552177   \n",
       "std        8.474601     19.245033      8.164537     49.960477    151.039033   \n",
       "min        0.760000      0.000000      0.000000      0.000000      0.000000   \n",
       "25%       16.665000     47.000000      7.001500      4.000000     36.000000   \n",
       "50%       24.240000     62.000000     12.998000     17.000000    118.000000   \n",
       "75%       31.060000     77.000000     16.997900     49.000000    222.000000   \n",
       "max       45.455000    100.000000     56.996900    367.000000    886.000000   \n",
       "\n",
       "              count  \n",
       "count  10886.000000  \n",
       "mean     191.574132  \n",
       "std      181.144454  \n",
       "min        1.000000  \n",
       "25%       42.000000  \n",
       "50%      145.000000  \n",
       "75%      284.000000  \n",
       "max      977.000000  "
      ]
     },
     "execution_count": 12,
     "metadata": {},
     "output_type": "execute_result"
    }
   ],
   "source": [
    "train.describe()"
   ]
  },
  {
   "cell_type": "markdown",
   "metadata": {
    "colab_type": "text",
    "id": "w9f22Ah36_u0"
   },
   "source": [
    "## datetime 데이터 분해"
   ]
  },
  {
   "cell_type": "code",
   "execution_count": 13,
   "metadata": {
    "colab": {
     "base_uri": "https://localhost:8080/",
     "height": 195
    },
    "colab_type": "code",
    "id": "GMMzNEvZ6_u2",
    "outputId": "06d09dce-1dac-4401-83fe-67032640ae06"
   },
   "outputs": [
    {
     "data": {
      "text/html": [
       "<div>\n",
       "<style scoped>\n",
       "    .dataframe tbody tr th:only-of-type {\n",
       "        vertical-align: middle;\n",
       "    }\n",
       "\n",
       "    .dataframe tbody tr th {\n",
       "        vertical-align: top;\n",
       "    }\n",
       "\n",
       "    .dataframe thead th {\n",
       "        text-align: right;\n",
       "    }\n",
       "</style>\n",
       "<table border=\"1\" class=\"dataframe\">\n",
       "  <thead>\n",
       "    <tr style=\"text-align: right;\">\n",
       "      <th></th>\n",
       "      <th>datetime</th>\n",
       "      <th>d-year</th>\n",
       "      <th>d-month</th>\n",
       "      <th>d-day</th>\n",
       "      <th>d-hour</th>\n",
       "      <th>d-minute</th>\n",
       "      <th>d-second</th>\n",
       "    </tr>\n",
       "  </thead>\n",
       "  <tbody>\n",
       "    <tr>\n",
       "      <th>0</th>\n",
       "      <td>2011-01-01 00:00:00</td>\n",
       "      <td>2011</td>\n",
       "      <td>1</td>\n",
       "      <td>1</td>\n",
       "      <td>0</td>\n",
       "      <td>0</td>\n",
       "      <td>0</td>\n",
       "    </tr>\n",
       "    <tr>\n",
       "      <th>1</th>\n",
       "      <td>2011-01-01 01:00:00</td>\n",
       "      <td>2011</td>\n",
       "      <td>1</td>\n",
       "      <td>1</td>\n",
       "      <td>1</td>\n",
       "      <td>0</td>\n",
       "      <td>0</td>\n",
       "    </tr>\n",
       "    <tr>\n",
       "      <th>2</th>\n",
       "      <td>2011-01-01 02:00:00</td>\n",
       "      <td>2011</td>\n",
       "      <td>1</td>\n",
       "      <td>1</td>\n",
       "      <td>2</td>\n",
       "      <td>0</td>\n",
       "      <td>0</td>\n",
       "    </tr>\n",
       "    <tr>\n",
       "      <th>3</th>\n",
       "      <td>2011-01-01 03:00:00</td>\n",
       "      <td>2011</td>\n",
       "      <td>1</td>\n",
       "      <td>1</td>\n",
       "      <td>3</td>\n",
       "      <td>0</td>\n",
       "      <td>0</td>\n",
       "    </tr>\n",
       "    <tr>\n",
       "      <th>4</th>\n",
       "      <td>2011-01-01 04:00:00</td>\n",
       "      <td>2011</td>\n",
       "      <td>1</td>\n",
       "      <td>1</td>\n",
       "      <td>4</td>\n",
       "      <td>0</td>\n",
       "      <td>0</td>\n",
       "    </tr>\n",
       "  </tbody>\n",
       "</table>\n",
       "</div>"
      ],
      "text/plain": [
       "             datetime  d-year  d-month  d-day  d-hour  d-minute  d-second\n",
       "0 2011-01-01 00:00:00    2011        1      1       0         0         0\n",
       "1 2011-01-01 01:00:00    2011        1      1       1         0         0\n",
       "2 2011-01-01 02:00:00    2011        1      1       2         0         0\n",
       "3 2011-01-01 03:00:00    2011        1      1       3         0         0\n",
       "4 2011-01-01 04:00:00    2011        1      1       4         0         0"
      ]
     },
     "execution_count": 13,
     "metadata": {},
     "output_type": "execute_result"
    }
   ],
   "source": [
    "train[\"d-year\"] = train[\"datetime\"].dt.year\n",
    "train[\"d-month\"] = train[\"datetime\"].dt.month\n",
    "train[\"d-day\"] = train[\"datetime\"].dt.day\n",
    "train[\"d-hour\"] = train[\"datetime\"].dt.hour\n",
    "train[\"d-minute\"] = train[\"datetime\"].dt.minute\n",
    "train[\"d-second\"] = train[\"datetime\"].dt.second\n",
    "\n",
    "train[[\"datetime\", \"d-year\", \"d-month\", \"d-day\", \"d-hour\", \"d-minute\", \"d-second\"]].head()"
   ]
  },
  {
   "cell_type": "code",
   "execution_count": 14,
   "metadata": {
    "colab": {
     "base_uri": "https://localhost:8080/",
     "height": 459
    },
    "colab_type": "code",
    "id": "-7aRyOMs6_u6",
    "outputId": "00912699-441b-4a46-e5b5-fbb3488e51f4",
    "scrolled": true
   },
   "outputs": [
    {
     "data": {
      "text/plain": [
       "<matplotlib.axes._subplots.AxesSubplot at 0x610eba8>"
      ]
     },
     "execution_count": 14,
     "metadata": {},
     "output_type": "execute_result"
    },
    {
     "data": {
      "image/png": "[encoded data removed]",
      "text/plain": [
       "<Figure size 864x432 with 4 Axes>"
      ]
     },
     "metadata": {
      "needs_background": "light"
     },
     "output_type": "display_data"
    }
   ],
   "source": [
    "figure, ((ax1, ax2), (ax3, ax4)) = plt.subplots(nrows=2, ncols=2)\n",
    "figure.set_size_inches(12, 6)\n",
    "\n",
    "sns.barplot(data=train, x=\"d-year\", y=\"count\", ax=ax1)\n",
    "sns.barplot(data=train, x=\"d-month\", y=\"count\", ax=ax2)\n",
    "sns.barplot(data=train, x=\"d-day\", y=\"count\", ax=ax3)\n",
    "sns.barplot(data=train, x=\"d-hour\", y=\"count\", ax=ax4)"
   ]
  },
  {
   "cell_type": "markdown",
   "metadata": {
    "colab_type": "text",
    "id": "VkaLS0mH6_u9"
   },
   "source": [
    "## 시간대별 평균 대여수 (주중, 주말 구분)"
   ]
  },
  {
   "cell_type": "code",
   "execution_count": 17,
   "metadata": {
    "colab": {
     "base_uri": "https://localhost:8080/",
     "height": 350
    },
    "colab_type": "code",
    "id": "YSlHZAMd6_u-",
    "outputId": "d1a4ffc5-1f2f-497c-86a7-52a1d90440dd"
   },
   "outputs": [
    {
     "data": {
      "text/plain": [
       "<matplotlib.axes._subplots.AxesSubplot at 0xcb94c18>"
      ]
     },
     "execution_count": 17,
     "metadata": {},
     "output_type": "execute_result"
    },
    {
     "data": {
      "image/png": "[encoded data removed]",
      "text/plain": [
       "<Figure size 864x288 with 1 Axes>"
      ]
     },
     "metadata": {
      "needs_background": "light"
     },
     "output_type": "display_data"
    }
   ],
   "source": [
    "plt.figure(figsize=(12,4))\n",
    "sns.pointplot(data=train, x=\"d-hour\", y=\"count\", hue=\"workingday\")"
   ]
  },
  {
   "cell_type": "markdown",
   "metadata": {
    "colab_type": "text",
    "id": "SVydGWER6_vB"
   },
   "source": [
    "## 시간대별 대여수 - 요일 구분"
   ]
  },
  {
   "cell_type": "code",
   "execution_count": 18,
   "metadata": {
    "colab": {
     "base_uri": "https://localhost:8080/",
     "height": 212
    },
    "colab_type": "code",
    "id": "d7PJftHE6_vC",
    "outputId": "d35488df-7e28-4647-bb88-604ce4dbb5ee"
   },
   "outputs": [
    {
     "name": "stdout",
     "output_type": "stream",
     "text": [
      "(10886, 19)\n"
     ]
    },
    {
     "data": {
      "text/html": [
       "<div>\n",
       "<style scoped>\n",
       "    .dataframe tbody tr th:only-of-type {\n",
       "        vertical-align: middle;\n",
       "    }\n",
       "\n",
       "    .dataframe tbody tr th {\n",
       "        vertical-align: top;\n",
       "    }\n",
       "\n",
       "    .dataframe thead th {\n",
       "        text-align: right;\n",
       "    }\n",
       "</style>\n",
       "<table border=\"1\" class=\"dataframe\">\n",
       "  <thead>\n",
       "    <tr style=\"text-align: right;\">\n",
       "      <th></th>\n",
       "      <th>datetime</th>\n",
       "      <th>d-dayofweek</th>\n",
       "    </tr>\n",
       "  </thead>\n",
       "  <tbody>\n",
       "    <tr>\n",
       "      <th>0</th>\n",
       "      <td>2011-01-01 00:00:00</td>\n",
       "      <td>5</td>\n",
       "    </tr>\n",
       "    <tr>\n",
       "      <th>1</th>\n",
       "      <td>2011-01-01 01:00:00</td>\n",
       "      <td>5</td>\n",
       "    </tr>\n",
       "    <tr>\n",
       "      <th>2</th>\n",
       "      <td>2011-01-01 02:00:00</td>\n",
       "      <td>5</td>\n",
       "    </tr>\n",
       "    <tr>\n",
       "      <th>3</th>\n",
       "      <td>2011-01-01 03:00:00</td>\n",
       "      <td>5</td>\n",
       "    </tr>\n",
       "    <tr>\n",
       "      <th>4</th>\n",
       "      <td>2011-01-01 04:00:00</td>\n",
       "      <td>5</td>\n",
       "    </tr>\n",
       "  </tbody>\n",
       "</table>\n",
       "</div>"
      ],
      "text/plain": [
       "             datetime  d-dayofweek\n",
       "0 2011-01-01 00:00:00            5\n",
       "1 2011-01-01 01:00:00            5\n",
       "2 2011-01-01 02:00:00            5\n",
       "3 2011-01-01 03:00:00            5\n",
       "4 2011-01-01 04:00:00            5"
      ]
     },
     "execution_count": 18,
     "metadata": {},
     "output_type": "execute_result"
    }
   ],
   "source": [
    "train[\"d-dayofweek\"] = train[\"datetime\"].dt.dayofweek\n",
    "\n",
    "print(train.shape)\n",
    "train[[\"datetime\", \"d-dayofweek\"]].head()"
   ]
  },
  {
   "cell_type": "code",
   "execution_count": 19,
   "metadata": {
    "colab": {
     "base_uri": "https://localhost:8080/",
     "height": 567
    },
    "colab_type": "code",
    "id": "U7Mmk7j-6_vF",
    "outputId": "595d2ab5-c623-4460-cb71-7c31bac5b18d"
   },
   "outputs": [
    {
     "data": {
      "text/plain": [
       "<matplotlib.axes._subplots.AxesSubplot at 0xcd2ed68>"
      ]
     },
     "execution_count": 19,
     "metadata": {},
     "output_type": "execute_result"
    },
    {
     "data": {
      "image/png": "[encoded data removed]",
      "text/plain": [
       "<Figure size 1296x576 with 2 Axes>"
      ]
     },
     "metadata": {
      "needs_background": "light"
     },
     "output_type": "display_data"
    }
   ],
   "source": [
    "figure, (ax1, ax2) = plt.subplots(nrows=2, ncols=1)\n",
    "figure.set_size_inches(18, 8)\n",
    "\n",
    "sns.pointplot(data=train, x=\"d-hour\", y=\"count\", hue=\"workingday\", ax=ax1)\n",
    "sns.pointplot(data=train, x=\"d-hour\", y=\"count\", hue=\"d-dayofweek\", ax=ax2)"
   ]
  },
  {
   "cell_type": "markdown",
   "metadata": {
    "colab_type": "text",
    "id": "ygGV3bOS6_vI"
   },
   "source": [
    "## 연도와 월을 합한 특성 변수 생성"
   ]
  },
  {
   "cell_type": "code",
   "execution_count": 20,
   "metadata": {
    "colab": {
     "base_uri": "https://localhost:8080/",
     "height": 212
    },
    "colab_type": "code",
    "id": "QDR3zmN96_vJ",
    "outputId": "a6f6a981-8bb4-4ab7-f541-8656b45b60cc"
   },
   "outputs": [
    {
     "name": "stdout",
     "output_type": "stream",
     "text": [
      "(10886, 20)\n"
     ]
    },
    {
     "data": {
      "text/html": [
       "<div>\n",
       "<style scoped>\n",
       "    .dataframe tbody tr th:only-of-type {\n",
       "        vertical-align: middle;\n",
       "    }\n",
       "\n",
       "    .dataframe tbody tr th {\n",
       "        vertical-align: top;\n",
       "    }\n",
       "\n",
       "    .dataframe thead th {\n",
       "        text-align: right;\n",
       "    }\n",
       "</style>\n",
       "<table border=\"1\" class=\"dataframe\">\n",
       "  <thead>\n",
       "    <tr style=\"text-align: right;\">\n",
       "      <th></th>\n",
       "      <th>datetime</th>\n",
       "      <th>d-year_month</th>\n",
       "    </tr>\n",
       "  </thead>\n",
       "  <tbody>\n",
       "    <tr>\n",
       "      <th>0</th>\n",
       "      <td>2011-01-01 00:00:00</td>\n",
       "      <td>2011-1</td>\n",
       "    </tr>\n",
       "    <tr>\n",
       "      <th>1</th>\n",
       "      <td>2011-01-01 01:00:00</td>\n",
       "      <td>2011-1</td>\n",
       "    </tr>\n",
       "    <tr>\n",
       "      <th>2</th>\n",
       "      <td>2011-01-01 02:00:00</td>\n",
       "      <td>2011-1</td>\n",
       "    </tr>\n",
       "    <tr>\n",
       "      <th>3</th>\n",
       "      <td>2011-01-01 03:00:00</td>\n",
       "      <td>2011-1</td>\n",
       "    </tr>\n",
       "    <tr>\n",
       "      <th>4</th>\n",
       "      <td>2011-01-01 04:00:00</td>\n",
       "      <td>2011-1</td>\n",
       "    </tr>\n",
       "  </tbody>\n",
       "</table>\n",
       "</div>"
      ],
      "text/plain": [
       "             datetime d-year_month\n",
       "0 2011-01-01 00:00:00       2011-1\n",
       "1 2011-01-01 01:00:00       2011-1\n",
       "2 2011-01-01 02:00:00       2011-1\n",
       "3 2011-01-01 03:00:00       2011-1\n",
       "4 2011-01-01 04:00:00       2011-1"
      ]
     },
     "execution_count": 20,
     "metadata": {},
     "output_type": "execute_result"
    }
   ],
   "source": [
    "def concatenate_year_month(datetime):\n",
    "    return \"{0}-{1}\".format(datetime.year, datetime.month)\n",
    "\n",
    "train[\"d-year_month\"] = train[\"datetime\"].apply(concatenate_year_month)\n",
    "\n",
    "print(train.shape)\n",
    "train[[\"datetime\", \"d-year_month\"]].head()"
   ]
  },
  {
   "cell_type": "code",
   "execution_count": 21,
   "metadata": {
    "colab": {
     "base_uri": "https://localhost:8080/",
     "height": 612
    },
    "colab_type": "code",
    "id": "3ykQv12B6_vN",
    "outputId": "5f5b8ae8-f624-4e7b-ae37-ab8d2bd7f50a",
    "scrolled": false
   },
   "outputs": [
    {
     "data": {
      "text/plain": [
       "<matplotlib.axes._subplots.AxesSubplot at 0xe2093c8>"
      ]
     },
     "execution_count": 21,
     "metadata": {},
     "output_type": "execute_result"
    },
    {
     "data": {
      "image/png": "[encoded data removed]",
      "text/plain": [
       "<Figure size 1296x288 with 2 Axes>"
      ]
     },
     "metadata": {
      "needs_background": "light"
     },
     "output_type": "display_data"
    },
    {
     "data": {
      "image/png": "[encoded data removed]",
      "text/plain": [
       "<Figure size 1296x288 with 1 Axes>"
      ]
     },
     "metadata": {
      "needs_background": "light"
     },
     "output_type": "display_data"
    }
   ],
   "source": [
    "figure, (ax1, ax2) = plt.subplots(nrows=1, ncols=2)\n",
    "figure.set_size_inches(18, 4)\n",
    "\n",
    "sns.barplot(data=train, x=\"d-year\", y=\"count\", ax=ax1)\n",
    "sns.barplot(data=train, x=\"d-month\", y=\"count\", ax=ax2)\n",
    "\n",
    "figure, ax3 = plt.subplots(nrows=1, ncols=1)\n",
    "figure.set_size_inches(18, 4)\n",
    "\n",
    "sns.barplot(data=train, x=\"d-year_month\", y=\"count\", ax=ax3)"
   ]
  },
  {
   "cell_type": "markdown",
   "metadata": {
    "colab_type": "text",
    "id": "Ty7wbQ0L6_vS"
   },
   "source": [
    "## 훈련에 사용할 특성 선택"
   ]
  },
  {
   "cell_type": "code",
   "execution_count": 22,
   "metadata": {
    "colab": {
     "base_uri": "https://localhost:8080/",
     "height": 101
    },
    "colab_type": "code",
    "id": "2JZAxjE56_vT",
    "outputId": "e18219eb-75fc-4b2b-9248-5889b4ae9cea"
   },
   "outputs": [
    {
     "data": {
      "text/plain": [
       "Index(['datetime', 'season', 'holiday', 'workingday', 'weather', 'temp',\n",
       "       'atemp', 'humidity', 'windspeed', 'casual', 'registered', 'count',\n",
       "       'd-year', 'd-month', 'd-day', 'd-hour', 'd-minute', 'd-second',\n",
       "       'd-dayofweek', 'd-year_month'],\n",
       "      dtype='object')"
      ]
     },
     "execution_count": 22,
     "metadata": {},
     "output_type": "execute_result"
    }
   ],
   "source": [
    "train.columns"
   ]
  },
  {
   "cell_type": "code",
   "execution_count": 114,
   "metadata": {
    "colab": {},
    "colab_type": "code",
    "id": "wzKGw40W6_vX"
   },
   "outputs": [],
   "source": [
    "# features = [\"season\", \"holiday\", \"workingday\", \"weather\",            \n",
    "#             \"temp\", \"atemp\", \"humidity\", \"windspeed\",\n",
    "#                  \"d-year\", \"d-hour\", \"d-dayofweek\"]\n",
    "\n",
    "features = [\"season\", \"holiday\", \"workingday\", \"weather\",            \n",
    "            \"temp\", \"atemp\", \"humidity\", \"windspeed\", \"windspeed\", \"casual\", \"registered\",\n",
    "                 \"d-year\", \"d-hour\", \"d-dayofweek\"]"
   ]
  },
  {
   "cell_type": "code",
   "execution_count": 115,
   "metadata": {
    "colab": {
     "base_uri": "https://localhost:8080/",
     "height": 249
    },
    "colab_type": "code",
    "id": "QoSBlvzZ6_vb",
    "outputId": "3c559788-624d-4d22-c035-1712f2949640"
   },
   "outputs": [
    {
     "name": "stdout",
     "output_type": "stream",
     "text": [
      "(10886, 14)\n"
     ]
    },
    {
     "data": {
      "text/html": [
       "<div>\n",
       "<style scoped>\n",
       "    .dataframe tbody tr th:only-of-type {\n",
       "        vertical-align: middle;\n",
       "    }\n",
       "\n",
       "    .dataframe tbody tr th {\n",
       "        vertical-align: top;\n",
       "    }\n",
       "\n",
       "    .dataframe thead th {\n",
       "        text-align: right;\n",
       "    }\n",
       "</style>\n",
       "<table border=\"1\" class=\"dataframe\">\n",
       "  <thead>\n",
       "    <tr style=\"text-align: right;\">\n",
       "      <th></th>\n",
       "      <th>season</th>\n",
       "      <th>holiday</th>\n",
       "      <th>workingday</th>\n",
       "      <th>weather</th>\n",
       "      <th>temp</th>\n",
       "      <th>atemp</th>\n",
       "      <th>humidity</th>\n",
       "      <th>windspeed</th>\n",
       "      <th>windspeed</th>\n",
       "      <th>casual</th>\n",
       "      <th>registered</th>\n",
       "      <th>d-year</th>\n",
       "      <th>d-hour</th>\n",
       "      <th>d-dayofweek</th>\n",
       "    </tr>\n",
       "  </thead>\n",
       "  <tbody>\n",
       "    <tr>\n",
       "      <th>0</th>\n",
       "      <td>1</td>\n",
       "      <td>0</td>\n",
       "      <td>0</td>\n",
       "      <td>1</td>\n",
       "      <td>9.84</td>\n",
       "      <td>14.395</td>\n",
       "      <td>81</td>\n",
       "      <td>0.0</td>\n",
       "      <td>0.0</td>\n",
       "      <td>3</td>\n",
       "      <td>13</td>\n",
       "      <td>2011</td>\n",
       "      <td>0</td>\n",
       "      <td>5</td>\n",
       "    </tr>\n",
       "    <tr>\n",
       "      <th>1</th>\n",
       "      <td>1</td>\n",
       "      <td>0</td>\n",
       "      <td>0</td>\n",
       "      <td>1</td>\n",
       "      <td>9.02</td>\n",
       "      <td>13.635</td>\n",
       "      <td>80</td>\n",
       "      <td>0.0</td>\n",
       "      <td>0.0</td>\n",
       "      <td>8</td>\n",
       "      <td>32</td>\n",
       "      <td>2011</td>\n",
       "      <td>1</td>\n",
       "      <td>5</td>\n",
       "    </tr>\n",
       "    <tr>\n",
       "      <th>2</th>\n",
       "      <td>1</td>\n",
       "      <td>0</td>\n",
       "      <td>0</td>\n",
       "      <td>1</td>\n",
       "      <td>9.02</td>\n",
       "      <td>13.635</td>\n",
       "      <td>80</td>\n",
       "      <td>0.0</td>\n",
       "      <td>0.0</td>\n",
       "      <td>5</td>\n",
       "      <td>27</td>\n",
       "      <td>2011</td>\n",
       "      <td>2</td>\n",
       "      <td>5</td>\n",
       "    </tr>\n",
       "    <tr>\n",
       "      <th>3</th>\n",
       "      <td>1</td>\n",
       "      <td>0</td>\n",
       "      <td>0</td>\n",
       "      <td>1</td>\n",
       "      <td>9.84</td>\n",
       "      <td>14.395</td>\n",
       "      <td>75</td>\n",
       "      <td>0.0</td>\n",
       "      <td>0.0</td>\n",
       "      <td>3</td>\n",
       "      <td>10</td>\n",
       "      <td>2011</td>\n",
       "      <td>3</td>\n",
       "      <td>5</td>\n",
       "    </tr>\n",
       "    <tr>\n",
       "      <th>4</th>\n",
       "      <td>1</td>\n",
       "      <td>0</td>\n",
       "      <td>0</td>\n",
       "      <td>1</td>\n",
       "      <td>9.84</td>\n",
       "      <td>14.395</td>\n",
       "      <td>75</td>\n",
       "      <td>0.0</td>\n",
       "      <td>0.0</td>\n",
       "      <td>0</td>\n",
       "      <td>1</td>\n",
       "      <td>2011</td>\n",
       "      <td>4</td>\n",
       "      <td>5</td>\n",
       "    </tr>\n",
       "  </tbody>\n",
       "</table>\n",
       "</div>"
      ],
      "text/plain": [
       "   season  holiday  workingday  weather  temp   atemp  humidity  windspeed  \\\n",
       "0       1        0           0        1  9.84  14.395        81        0.0   \n",
       "1       1        0           0        1  9.02  13.635        80        0.0   \n",
       "2       1        0           0        1  9.02  13.635        80        0.0   \n",
       "3       1        0           0        1  9.84  14.395        75        0.0   \n",
       "4       1        0           0        1  9.84  14.395        75        0.0   \n",
       "\n",
       "   windspeed  casual  registered  d-year  d-hour  d-dayofweek  \n",
       "0        0.0       3          13    2011       0            5  \n",
       "1        0.0       8          32    2011       1            5  \n",
       "2        0.0       5          27    2011       2            5  \n",
       "3        0.0       3          10    2011       3            5  \n",
       "4        0.0       0           1    2011       4            5  "
      ]
     },
     "execution_count": 115,
     "metadata": {},
     "output_type": "execute_result"
    }
   ],
   "source": [
    "X = train[features]\n",
    "print(X.shape)\n",
    "X.head()"
   ]
  },
  {
   "cell_type": "code",
   "execution_count": 116,
   "metadata": {
    "colab": {
     "base_uri": "https://localhost:8080/",
     "height": 34
    },
    "colab_type": "code",
    "id": "pBV4ysWe6_vf",
    "outputId": "cfcc3c84-d835-4320-8723-9c7af79197a2"
   },
   "outputs": [
    {
     "name": "stdout",
     "output_type": "stream",
     "text": [
      "(10886,)\n"
     ]
    }
   ],
   "source": [
    "y = train[\"count\"]\n",
    "print(y.shape)"
   ]
  },
  {
   "cell_type": "code",
   "execution_count": 117,
   "metadata": {
    "colab": {
     "base_uri": "https://localhost:8080/",
     "height": 134
    },
    "colab_type": "code",
    "id": "Ib0kFRjp6_vl",
    "outputId": "f78d7efb-031f-413f-fb85-ba1bd9fd7b27"
   },
   "outputs": [
    {
     "name": "stdout",
     "output_type": "stream",
     "text": [
      "(10886,)\n"
     ]
    },
    {
     "data": {
      "text/plain": [
       "0    2.833213\n",
       "1    3.713572\n",
       "2    3.496508\n",
       "3    2.639057\n",
       "4    0.693147\n",
       "Name: count, dtype: float64"
      ]
     },
     "execution_count": 117,
     "metadata": {},
     "output_type": "execute_result"
    }
   ],
   "source": [
    "## log를 씌우는 이유는 평가 결과 값의 편차를 상대적으로 줄이기 위해서. MAE vs MSE vs MSLE\n",
    "## 평가 결과값이 클때 오차를 줄일 필요가 있으면 MSE\n",
    "## 평가 결과값이 작을때의 오차를 줄일 필요가 있으면 MSLE\n",
    "\n",
    "import numpy as np\n",
    "y_log = np.log(y + 1) #y가 0열 경우에 오류를 방지하기 위함\n",
    "\n",
    "print(y_log.shape)\n",
    "y_log.head()"
   ]
  },
  {
   "cell_type": "markdown",
   "metadata": {
    "colab_type": "text",
    "id": "lDY_6y7p6_vs"
   },
   "source": [
    "## 간단한 예측 모델"
   ]
  },
  {
   "cell_type": "code",
   "execution_count": 120,
   "metadata": {
    "colab": {},
    "colab_type": "code",
    "id": "QUjiGWgC6_vz"
   },
   "outputs": [],
   "source": [
    "np.random.seed(101)\n",
    "X_train, X_test, y_train, y_test = train_test_split(X, y, test_size = 0.2)"
   ]
  },
  {
   "cell_type": "code",
   "execution_count": 121,
   "metadata": {},
   "outputs": [
    {
     "data": {
      "text/plain": [
       "((8708, 14), (2178, 14))"
      ]
     },
     "execution_count": 121,
     "metadata": {},
     "output_type": "execute_result"
    }
   ],
   "source": [
    "X_train.shape, X_test.shape"
   ]
  },
  {
   "cell_type": "code",
   "execution_count": 122,
   "metadata": {
    "colab": {
     "base_uri": "https://localhost:8080/",
     "height": 34
    },
    "colab_type": "code",
    "id": "SFN3S-Oe6_v2",
    "outputId": "42c5915f-884d-43ca-fc7e-d97b61975894"
   },
   "outputs": [
    {
     "data": {
      "text/plain": [
       "0.9996346939042524"
      ]
     },
     "execution_count": 122,
     "metadata": {},
     "output_type": "execute_result"
    }
   ],
   "source": [
    "model = RandomForestRegressor(n_estimators= 100)\n",
    "model.fit(X_train, y_train)\n",
    "model.score(X_test, y_test)\n",
    "\n",
    "# R스퀘어 값"
   ]
  },
  {
   "cell_type": "code",
   "execution_count": 38,
   "metadata": {
    "colab": {
     "base_uri": "https://localhost:8080/",
     "height": 185
    },
    "colab_type": "code",
    "id": "gv2k__Dh6_v6",
    "outputId": "814a61b8-c4ef-4d78-8470-740ffec47a81",
    "scrolled": true
   },
   "outputs": [
    {
     "data": {
      "text/plain": [
       "[(6, 7.09),\n",
       " (42, 47.03),\n",
       " (610, 515.91),\n",
       " (16, 17.81),\n",
       " (70, 88.12),\n",
       " (14, 24.26),\n",
       " (415, 369.47),\n",
       " (232, 231.93),\n",
       " (237, 346.1),\n",
       " (290, 275.65)]"
      ]
     },
     "execution_count": 38,
     "metadata": {},
     "output_type": "execute_result"
    }
   ],
   "source": [
    "list(zip(y_test, model.predict(X_test)))[:10]"
   ]
  },
  {
   "cell_type": "code",
   "execution_count": 49,
   "metadata": {},
   "outputs": [
    {
     "data": {
      "text/plain": [
       "0.9506671938417536"
      ]
     },
     "execution_count": 49,
     "metadata": {},
     "output_type": "execute_result"
    }
   ],
   "source": [
    "1-((y_test - model.predict(X_test))**2).mean()/((y_test - y_test.mean())**2).mean()"
   ]
  },
  {
   "cell_type": "code",
   "execution_count": 34,
   "metadata": {
    "colab": {
     "base_uri": "https://localhost:8080/",
     "height": 191
    },
    "colab_type": "code",
    "id": "JXk1pJyW6_v9",
    "outputId": "3f7a659b-897f-4f6a-c778-52cc48460160"
   },
   "outputs": [
    {
     "data": {
      "text/html": [
       "<div>\n",
       "<style scoped>\n",
       "    .dataframe tbody tr th:only-of-type {\n",
       "        vertical-align: middle;\n",
       "    }\n",
       "\n",
       "    .dataframe tbody tr th {\n",
       "        vertical-align: top;\n",
       "    }\n",
       "\n",
       "    .dataframe thead th {\n",
       "        text-align: right;\n",
       "    }\n",
       "</style>\n",
       "<table border=\"1\" class=\"dataframe\">\n",
       "  <thead>\n",
       "    <tr style=\"text-align: right;\">\n",
       "      <th></th>\n",
       "      <th>season</th>\n",
       "      <th>holiday</th>\n",
       "      <th>workingday</th>\n",
       "      <th>weather</th>\n",
       "      <th>temp</th>\n",
       "      <th>atemp</th>\n",
       "      <th>humidity</th>\n",
       "      <th>windspeed</th>\n",
       "      <th>d-year</th>\n",
       "      <th>d-hour</th>\n",
       "      <th>d-dayofweek</th>\n",
       "    </tr>\n",
       "  </thead>\n",
       "  <tbody>\n",
       "    <tr>\n",
       "      <th>7560</th>\n",
       "      <td>2</td>\n",
       "      <td>0</td>\n",
       "      <td>1</td>\n",
       "      <td>3</td>\n",
       "      <td>22.14</td>\n",
       "      <td>25.760</td>\n",
       "      <td>88</td>\n",
       "      <td>19.0012</td>\n",
       "      <td>2012</td>\n",
       "      <td>9</td>\n",
       "      <td>0</td>\n",
       "    </tr>\n",
       "    <tr>\n",
       "      <th>8090</th>\n",
       "      <td>2</td>\n",
       "      <td>0</td>\n",
       "      <td>0</td>\n",
       "      <td>1</td>\n",
       "      <td>25.42</td>\n",
       "      <td>31.060</td>\n",
       "      <td>57</td>\n",
       "      <td>7.0015</td>\n",
       "      <td>2012</td>\n",
       "      <td>11</td>\n",
       "      <td>6</td>\n",
       "    </tr>\n",
       "    <tr>\n",
       "      <th>30</th>\n",
       "      <td>1</td>\n",
       "      <td>0</td>\n",
       "      <td>0</td>\n",
       "      <td>2</td>\n",
       "      <td>16.40</td>\n",
       "      <td>20.455</td>\n",
       "      <td>76</td>\n",
       "      <td>12.9980</td>\n",
       "      <td>2011</td>\n",
       "      <td>7</td>\n",
       "      <td>6</td>\n",
       "    </tr>\n",
       "    <tr>\n",
       "      <th>7290</th>\n",
       "      <td>2</td>\n",
       "      <td>0</td>\n",
       "      <td>1</td>\n",
       "      <td>2</td>\n",
       "      <td>18.86</td>\n",
       "      <td>22.725</td>\n",
       "      <td>88</td>\n",
       "      <td>0.0000</td>\n",
       "      <td>2012</td>\n",
       "      <td>3</td>\n",
       "      <td>3</td>\n",
       "    </tr>\n",
       "    <tr>\n",
       "      <th>8665</th>\n",
       "      <td>3</td>\n",
       "      <td>0</td>\n",
       "      <td>1</td>\n",
       "      <td>2</td>\n",
       "      <td>32.80</td>\n",
       "      <td>37.120</td>\n",
       "      <td>52</td>\n",
       "      <td>12.9980</td>\n",
       "      <td>2012</td>\n",
       "      <td>10</td>\n",
       "      <td>4</td>\n",
       "    </tr>\n",
       "  </tbody>\n",
       "</table>\n",
       "</div>"
      ],
      "text/plain": [
       "      season  holiday  workingday  weather   temp   atemp  humidity  \\\n",
       "7560       2        0           1        3  22.14  25.760        88   \n",
       "8090       2        0           0        1  25.42  31.060        57   \n",
       "30         1        0           0        2  16.40  20.455        76   \n",
       "7290       2        0           1        2  18.86  22.725        88   \n",
       "8665       3        0           1        2  32.80  37.120        52   \n",
       "\n",
       "      windspeed  d-year  d-hour  d-dayofweek  \n",
       "7560    19.0012    2012       9            0  \n",
       "8090     7.0015    2012      11            6  \n",
       "30      12.9980    2011       7            6  \n",
       "7290     0.0000    2012       3            3  \n",
       "8665    12.9980    2012      10            4  "
      ]
     },
     "execution_count": 34,
     "metadata": {},
     "output_type": "execute_result"
    }
   ],
   "source": [
    "X_train[:5]"
   ]
  },
  {
   "cell_type": "markdown",
   "metadata": {},
   "source": [
    "## Feature 선택"
   ]
  },
  {
   "cell_type": "code",
   "execution_count": 56,
   "metadata": {},
   "outputs": [],
   "source": [
    "# features_selected = [\"season\", \"holiday\", \"workingday\", \"weather\",\n",
    "#                      \"temp\", \"atemp\", \"humidity\", \"windspeed\",\n",
    "#                      \"d-year\", \"d-hour\", \"d-dayofweek\"]\n",
    "\n",
    "features_selected = [\"season\", \"holiday\", \"weather\"]"
   ]
  },
  {
   "cell_type": "code",
   "execution_count": 57,
   "metadata": {},
   "outputs": [],
   "source": [
    "X1 = train[features_selected]"
   ]
  },
  {
   "cell_type": "code",
   "execution_count": 58,
   "metadata": {},
   "outputs": [],
   "source": [
    "np.random.seed(1111)\n",
    "X_train1, X_test1, y_train1, y_test1 = train_test_split(X1, y, test_size = 0.2)"
   ]
  },
  {
   "cell_type": "code",
   "execution_count": 78,
   "metadata": {},
   "outputs": [
    {
     "data": {
      "text/plain": [
       "0.08328239869531529"
      ]
     },
     "execution_count": 78,
     "metadata": {},
     "output_type": "execute_result"
    }
   ],
   "source": [
    "model = RandomForestRegressor(n_estimators= 100)\n",
    "model.fit(X_train1, y_train1)\n",
    "model.score(X_test1, y_test1)"
   ]
  },
  {
   "cell_type": "markdown",
   "metadata": {
    "colab_type": "text",
    "id": "rYV_3yZW6_wA"
   },
   "source": [
    "## 선형회귀"
   ]
  },
  {
   "cell_type": "code",
   "execution_count": 50,
   "metadata": {
    "colab": {
     "base_uri": "https://localhost:8080/",
     "height": 33
    },
    "colab_type": "code",
    "id": "RSrOtZyJ6_wB",
    "outputId": "0d5fa32f-d4c7-4b6a-bdb4-afc8d371ccca"
   },
   "outputs": [
    {
     "data": {
      "text/plain": [
       "0.37561934247883966"
      ]
     },
     "execution_count": 50,
     "metadata": {},
     "output_type": "execute_result"
    }
   ],
   "source": [
    "model = LinearRegression()\n",
    "model.fit(X_train, y_train)\n",
    "model.score(X_test, y_test)"
   ]
  },
  {
   "cell_type": "code",
   "execution_count": 51,
   "metadata": {
    "colab": {
     "base_uri": "https://localhost:8080/",
     "height": 33
    },
    "colab_type": "code",
    "id": "YngvuL3s6_wE",
    "outputId": "d10611c2-1b9f-4f19-e5bf-76d31ea21357"
   },
   "outputs": [
    {
     "data": {
      "text/plain": [
       "0.8982448736705144"
      ]
     },
     "execution_count": 51,
     "metadata": {},
     "output_type": "execute_result"
    }
   ],
   "source": [
    "model = DecisionTreeRegressor()\n",
    "model.fit(X_train, y_train)\n",
    "model.score(X_test, y_test)"
   ]
  },
  {
   "cell_type": "markdown",
   "metadata": {
    "colab_type": "text",
    "id": "Yzq_C7NE6_wI"
   },
   "source": [
    "## 성능 지표( score) 함수 변경"
   ]
  },
  {
   "cell_type": "code",
   "execution_count": 92,
   "metadata": {
    "colab": {
     "base_uri": "https://localhost:8080/",
     "height": 33
    },
    "colab_type": "code",
    "id": "e0kRQgIC6_wK",
    "outputId": "9957f642-88ee-422a-e01d-799e891a7fd5"
   },
   "outputs": [
    {
     "data": {
      "text/plain": [
       "make_scorer(rmsle)"
      ]
     },
     "execution_count": 92,
     "metadata": {},
     "output_type": "execute_result"
    }
   ],
   "source": [
    "def rmsle(predict, actual):\n",
    "    predict = np.array(predict)\n",
    "    actual = np.array(actual)\n",
    "    \n",
    "    log_predict = predict + 1\n",
    "    log_actual = actual + 1\n",
    "    \n",
    "    difference = log_predict - log_actual\n",
    "    difference = np.square(difference)\n",
    "    \n",
    "    mean_difference = difference.mean()    \n",
    "    score = np.sqrt(mean_difference)\n",
    "    return score\n",
    "\n",
    "rmsle_scorer = make_scorer(rmsle)\n",
    "rmsle_scorer"
   ]
  },
  {
   "cell_type": "markdown",
   "metadata": {
    "colab_type": "text",
    "id": "jb9NOYEZ6_wN"
   },
   "source": [
    "## 하이퍼파라미터 선택"
   ]
  },
  {
   "cell_type": "markdown",
   "metadata": {
    "colab_type": "text",
    "id": "KiEphT7a6_wN"
   },
   "source": [
    "### 그리드 탐색"
   ]
  },
  {
   "cell_type": "code",
   "execution_count": 93,
   "metadata": {
    "colab": {
     "base_uri": "https://localhost:8080/",
     "height": 748
    },
    "colab_type": "code",
    "id": "Najht9c66_wP",
    "outputId": "99bbc9e5-1233-4b2d-bf3c-1ecd74815f83"
   },
   "outputs": [
    {
     "name": "stdout",
     "output_type": "stream",
     "text": [
      "Score = 82.46058\n",
      "Score = 65.18965\n",
      "Score = 50.68509\n",
      "Score = 63.61854\n",
      "Score = 49.85210\n",
      "Score = 43.68359\n",
      "Score = 64.40226\n",
      "Score = 49.84540\n",
      "Score = 43.98982\n"
     ]
    },
    {
     "data": {
      "text/plain": [
       "[{'score': 82.46058095287601,\n",
       "  'n_estimators': 30,\n",
       "  'max_depth': 10,\n",
       "  'max_features': 0.3},\n",
       " {'score': 65.18965382821918,\n",
       "  'n_estimators': 30,\n",
       "  'max_depth': 10,\n",
       "  'max_features': 0.5},\n",
       " {'score': 50.68508595894201,\n",
       "  'n_estimators': 30,\n",
       "  'max_depth': 10,\n",
       "  'max_features': 0.9},\n",
       " {'score': 63.61854488242934,\n",
       "  'n_estimators': 30,\n",
       "  'max_depth': 20,\n",
       "  'max_features': 0.3},\n",
       " {'score': 49.85209899588742,\n",
       "  'n_estimators': 30,\n",
       "  'max_depth': 20,\n",
       "  'max_features': 0.5},\n",
       " {'score': 43.68359015460392,\n",
       "  'n_estimators': 30,\n",
       "  'max_depth': 20,\n",
       "  'max_features': 0.9},\n",
       " {'score': 64.40225777149196,\n",
       "  'n_estimators': 30,\n",
       "  'max_depth': 30,\n",
       "  'max_features': 0.3},\n",
       " {'score': 49.845398382105095,\n",
       "  'n_estimators': 30,\n",
       "  'max_depth': 30,\n",
       "  'max_features': 0.5},\n",
       " {'score': 43.989822316700966,\n",
       "  'n_estimators': 30,\n",
       "  'max_depth': 30,\n",
       "  'max_features': 0.9}]"
      ]
     },
     "execution_count": 93,
     "metadata": {},
     "output_type": "execute_result"
    }
   ],
   "source": [
    "n_estimators = 30\n",
    "\n",
    "max_depth_list = [10, 20, 30]\n",
    "max_features_list = [0.3, 0.5, 0.9]\n",
    "\n",
    "hyperparameters_list = []\n",
    "\n",
    "for max_depth in max_depth_list:\n",
    "    for max_features in max_features_list:\n",
    "        model = RandomForestRegressor(n_estimators=n_estimators,\n",
    "                                      max_depth=max_depth,\n",
    "                                      max_features=max_features,\n",
    "                                      random_state=11,\n",
    "                                      n_jobs=-1)\n",
    "\n",
    "        score = cross_val_score(model, X_train, y_train, cv=5,\n",
    "                                scoring=rmsle_scorer).mean()\n",
    "\n",
    "        hyperparameters_list.append({\n",
    "            'score': score,\n",
    "            'n_estimators': n_estimators,\n",
    "            'max_depth': max_depth,\n",
    "            'max_features': max_features,\n",
    "        })\n",
    "\n",
    "        print(\"Score = {0:.5f}\".format(score))\n",
    "\n",
    "hyperparameters_list"
   ]
  },
  {
   "cell_type": "code",
   "execution_count": 94,
   "metadata": {
    "colab": {
     "base_uri": "https://localhost:8080/",
     "height": 207
    },
    "colab_type": "code",
    "id": "sjBMQWVl6_wS",
    "outputId": "a9616d4d-31da-4895-f810-7157847d8310"
   },
   "outputs": [
    {
     "name": "stdout",
     "output_type": "stream",
     "text": [
      "(9, 4)\n"
     ]
    },
    {
     "data": {
      "text/html": [
       "<div>\n",
       "<style scoped>\n",
       "    .dataframe tbody tr th:only-of-type {\n",
       "        vertical-align: middle;\n",
       "    }\n",
       "\n",
       "    .dataframe tbody tr th {\n",
       "        vertical-align: top;\n",
       "    }\n",
       "\n",
       "    .dataframe thead th {\n",
       "        text-align: right;\n",
       "    }\n",
       "</style>\n",
       "<table border=\"1\" class=\"dataframe\">\n",
       "  <thead>\n",
       "    <tr style=\"text-align: right;\">\n",
       "      <th></th>\n",
       "      <th>max_depth</th>\n",
       "      <th>max_features</th>\n",
       "      <th>n_estimators</th>\n",
       "      <th>score</th>\n",
       "    </tr>\n",
       "  </thead>\n",
       "  <tbody>\n",
       "    <tr>\n",
       "      <th>5</th>\n",
       "      <td>20</td>\n",
       "      <td>0.9</td>\n",
       "      <td>30</td>\n",
       "      <td>43.683590</td>\n",
       "    </tr>\n",
       "    <tr>\n",
       "      <th>8</th>\n",
       "      <td>30</td>\n",
       "      <td>0.9</td>\n",
       "      <td>30</td>\n",
       "      <td>43.989822</td>\n",
       "    </tr>\n",
       "    <tr>\n",
       "      <th>7</th>\n",
       "      <td>30</td>\n",
       "      <td>0.5</td>\n",
       "      <td>30</td>\n",
       "      <td>49.845398</td>\n",
       "    </tr>\n",
       "    <tr>\n",
       "      <th>4</th>\n",
       "      <td>20</td>\n",
       "      <td>0.5</td>\n",
       "      <td>30</td>\n",
       "      <td>49.852099</td>\n",
       "    </tr>\n",
       "    <tr>\n",
       "      <th>2</th>\n",
       "      <td>10</td>\n",
       "      <td>0.9</td>\n",
       "      <td>30</td>\n",
       "      <td>50.685086</td>\n",
       "    </tr>\n",
       "  </tbody>\n",
       "</table>\n",
       "</div>"
      ],
      "text/plain": [
       "   max_depth  max_features  n_estimators      score\n",
       "5         20           0.9            30  43.683590\n",
       "8         30           0.9            30  43.989822\n",
       "7         30           0.5            30  49.845398\n",
       "4         20           0.5            30  49.852099\n",
       "2         10           0.9            30  50.685086"
      ]
     },
     "execution_count": 94,
     "metadata": {},
     "output_type": "execute_result"
    }
   ],
   "source": [
    "hyperparameters_list = pd.DataFrame.from_dict(hyperparameters_list)\n",
    "hyperparameters_list = hyperparameters_list.sort_values(by=\"score\")\n",
    "\n",
    "print(hyperparameters_list.shape)\n",
    "hyperparameters_list.head()"
   ]
  },
  {
   "cell_type": "markdown",
   "metadata": {
    "colab_type": "text",
    "id": "kk_u7Jql6_wU"
   },
   "source": [
    "### 랜덤 탐색"
   ]
  },
  {
   "cell_type": "code",
   "execution_count": 95,
   "metadata": {
    "colab": {
     "base_uri": "https://localhost:8080/",
     "height": 370
    },
    "colab_type": "code",
    "id": "-FRpjDfX6_wV",
    "outputId": "5f6d25a5-a99c-4c41-fea9-56647784650c"
   },
   "outputs": [
    {
     "name": "stdout",
     "output_type": "stream",
     "text": [
      "Score = 49.58649\n",
      "Score = 46.89069\n",
      "Score = 56.33613\n",
      "Score = 46.89069\n",
      "Score = 43.73641\n",
      "Score = 43.99683\n",
      "Score = 49.58649\n",
      "Score = 46.89069\n",
      "Score = 46.89069\n",
      "Score = 81.28034\n",
      "(10, 4)\n"
     ]
    },
    {
     "data": {
      "text/html": [
       "<div>\n",
       "<style scoped>\n",
       "    .dataframe tbody tr th:only-of-type {\n",
       "        vertical-align: middle;\n",
       "    }\n",
       "\n",
       "    .dataframe tbody tr th {\n",
       "        vertical-align: top;\n",
       "    }\n",
       "\n",
       "    .dataframe thead th {\n",
       "        text-align: right;\n",
       "    }\n",
       "</style>\n",
       "<table border=\"1\" class=\"dataframe\">\n",
       "  <thead>\n",
       "    <tr style=\"text-align: right;\">\n",
       "      <th></th>\n",
       "      <th>max_depth</th>\n",
       "      <th>max_features</th>\n",
       "      <th>n_estimators</th>\n",
       "      <th>score</th>\n",
       "    </tr>\n",
       "  </thead>\n",
       "  <tbody>\n",
       "    <tr>\n",
       "      <th>4</th>\n",
       "      <td>91</td>\n",
       "      <td>0.904707</td>\n",
       "      <td>30</td>\n",
       "      <td>43.736409</td>\n",
       "    </tr>\n",
       "    <tr>\n",
       "      <th>5</th>\n",
       "      <td>79</td>\n",
       "      <td>0.981396</td>\n",
       "      <td>30</td>\n",
       "      <td>43.996830</td>\n",
       "    </tr>\n",
       "    <tr>\n",
       "      <th>1</th>\n",
       "      <td>57</td>\n",
       "      <td>0.550295</td>\n",
       "      <td>30</td>\n",
       "      <td>46.890688</td>\n",
       "    </tr>\n",
       "    <tr>\n",
       "      <th>3</th>\n",
       "      <td>64</td>\n",
       "      <td>0.564408</td>\n",
       "      <td>30</td>\n",
       "      <td>46.890688</td>\n",
       "    </tr>\n",
       "    <tr>\n",
       "      <th>7</th>\n",
       "      <td>62</td>\n",
       "      <td>0.579520</td>\n",
       "      <td>30</td>\n",
       "      <td>46.890688</td>\n",
       "    </tr>\n",
       "  </tbody>\n",
       "</table>\n",
       "</div>"
      ],
      "text/plain": [
       "   max_depth  max_features  n_estimators      score\n",
       "4         91      0.904707            30  43.736409\n",
       "5         79      0.981396            30  43.996830\n",
       "1         57      0.550295            30  46.890688\n",
       "3         64      0.564408            30  46.890688\n",
       "7         62      0.579520            30  46.890688"
      ]
     },
     "execution_count": 95,
     "metadata": {},
     "output_type": "execute_result"
    }
   ],
   "source": [
    "import numpy as np\n",
    "from sklearn.ensemble import RandomForestRegressor\n",
    "from sklearn.model_selection import cross_val_score\n",
    "\n",
    "hyperparameters_list = []\n",
    "\n",
    "n_estimators = 30\n",
    "num_epoch = 10\n",
    "\n",
    "for epoch in range(num_epoch):\n",
    "    max_depth = np.random.randint(low=2, high=100)\n",
    "    max_features = np.random.uniform(low=0.1, high=1.0)\n",
    "\n",
    "    model = RandomForestRegressor(n_estimators=n_estimators,\n",
    "                                  max_depth=max_depth,\n",
    "                                  max_features=max_features,\n",
    "                                  random_state=37,\n",
    "                                  n_jobs=-1)\n",
    "\n",
    "    score = cross_val_score(model, X_train, y_train, cv=5,\n",
    "                            scoring=rmsle_scorer).mean()\n",
    "\n",
    "    hyperparameters_list.append({\n",
    "        'score': score,\n",
    "        'n_estimators': n_estimators,\n",
    "        'max_depth': max_depth,\n",
    "        'max_features': max_features,\n",
    "    })\n",
    "\n",
    "    print(\"Score = {0:.5f}\".format(score))\n",
    "\n",
    "hyperparameters_list = pd.DataFrame.from_dict(hyperparameters_list)\n",
    "hyperparameters_list = hyperparameters_list.sort_values(by=\"score\")\n",
    "\n",
    "print(hyperparameters_list.shape)\n",
    "hyperparameters_list.head()"
   ]
  },
  {
   "cell_type": "markdown",
   "metadata": {
    "colab_type": "text",
    "id": "n53c7WGT6_wZ"
   },
   "source": [
    "### 상세 탐색"
   ]
  },
  {
   "cell_type": "code",
   "execution_count": 54,
   "metadata": {
    "colab": {
     "base_uri": "https://localhost:8080/",
     "height": 370
    },
    "colab_type": "code",
    "id": "PEB5_4xS6_wb",
    "outputId": "2a5a38f2-8757-43b3-d6f0-28295cb40b34"
   },
   "outputs": [
    {
     "name": "stdout",
     "output_type": "stream",
     "text": [
      "Score = 0.36444\n",
      "Score = 0.33882\n",
      "Score = 0.34933\n",
      "Score = 0.35628\n",
      "Score = 0.35040\n",
      "Score = 0.34485\n",
      "Score = 0.36444\n",
      "Score = 0.33882\n",
      "Score = 0.35628\n",
      "Score = 0.35040\n",
      "(10, 4)\n"
     ]
    },
    {
     "data": {
      "text/html": [
       "<div>\n",
       "<style scoped>\n",
       "    .dataframe tbody tr th:only-of-type {\n",
       "        vertical-align: middle;\n",
       "    }\n",
       "\n",
       "    .dataframe tbody tr th {\n",
       "        vertical-align: top;\n",
       "    }\n",
       "\n",
       "    .dataframe thead th {\n",
       "        text-align: right;\n",
       "    }\n",
       "</style>\n",
       "<table border=\"1\" class=\"dataframe\">\n",
       "  <thead>\n",
       "    <tr style=\"text-align: right;\">\n",
       "      <th></th>\n",
       "      <th>max_depth</th>\n",
       "      <th>max_features</th>\n",
       "      <th>n_estimators</th>\n",
       "      <th>score</th>\n",
       "    </tr>\n",
       "  </thead>\n",
       "  <tbody>\n",
       "    <tr>\n",
       "      <th>1</th>\n",
       "      <td>34</td>\n",
       "      <td>0.939039</td>\n",
       "      <td>10</td>\n",
       "      <td>0.338818</td>\n",
       "    </tr>\n",
       "    <tr>\n",
       "      <th>7</th>\n",
       "      <td>63</td>\n",
       "      <td>0.916317</td>\n",
       "      <td>10</td>\n",
       "      <td>0.338818</td>\n",
       "    </tr>\n",
       "    <tr>\n",
       "      <th>5</th>\n",
       "      <td>19</td>\n",
       "      <td>0.796031</td>\n",
       "      <td>10</td>\n",
       "      <td>0.344853</td>\n",
       "    </tr>\n",
       "    <tr>\n",
       "      <th>2</th>\n",
       "      <td>28</td>\n",
       "      <td>0.718385</td>\n",
       "      <td>10</td>\n",
       "      <td>0.349331</td>\n",
       "    </tr>\n",
       "    <tr>\n",
       "      <th>4</th>\n",
       "      <td>44</td>\n",
       "      <td>0.673892</td>\n",
       "      <td>10</td>\n",
       "      <td>0.350404</td>\n",
       "    </tr>\n",
       "  </tbody>\n",
       "</table>\n",
       "</div>"
      ],
      "text/plain": [
       "   max_depth  max_features  n_estimators     score\n",
       "1         34      0.939039            10  0.338818\n",
       "7         63      0.916317            10  0.338818\n",
       "5         19      0.796031            10  0.344853\n",
       "2         28      0.718385            10  0.349331\n",
       "4         44      0.673892            10  0.350404"
      ]
     },
     "execution_count": 54,
     "metadata": {
      "tags": []
     },
     "output_type": "execute_result"
    }
   ],
   "source": [
    "import numpy as np\n",
    "from sklearn.ensemble import RandomForestRegressor\n",
    "from sklearn.model_selection import cross_val_score\n",
    "\n",
    "hyperparameters_list = []\n",
    "\n",
    "n_estimators = 10\n",
    "num_epoch = 10\n",
    "\n",
    "for epoch in range(num_epoch):\n",
    "    max_depth = np.random.randint(low=10, high=70)\n",
    "    max_features = np.random.uniform(low=0.4, high=1.0)\n",
    "\n",
    "    model = RandomForestRegressor(n_estimators=n_estimators,\n",
    "                                  max_depth=max_depth,\n",
    "                                  max_features=max_features,\n",
    "                                  random_state=37,\n",
    "                                  n_jobs=-1)\n",
    "\n",
    "    score = cross_val_score(model, X_train, y_train, cv=5,\n",
    "                            scoring=rmsle_scorer).mean()\n",
    "\n",
    "    hyperparameters_list.append({\n",
    "        'score': score,\n",
    "        'n_estimators': n_estimators,\n",
    "        'max_depth': max_depth,\n",
    "        'max_features': max_features,\n",
    "    })\n",
    "\n",
    "    print(\"Score = {0:.5f}\".format(score))\n",
    "\n",
    "hyperparameters_list = pd.DataFrame.from_dict(hyperparameters_list)\n",
    "hyperparameters_list = hyperparameters_list.sort_values(by=\"score\")\n",
    "\n",
    "print(hyperparameters_list.shape)\n",
    "hyperparameters_list.head()"
   ]
  },
  {
   "cell_type": "markdown",
   "metadata": {
    "colab_type": "text",
    "id": "yy9nbgip6_wg"
   },
   "source": [
    "## 최종 모델 선택"
   ]
  },
  {
   "cell_type": "code",
   "execution_count": 96,
   "metadata": {
    "colab": {
     "base_uri": "https://localhost:8080/",
     "height": 115
    },
    "colab_type": "code",
    "id": "2jd93hCn6_wi",
    "outputId": "5a870e7b-58d0-4664-b6e9-531eecb2b1d0"
   },
   "outputs": [
    {
     "data": {
      "text/plain": [
       "RandomForestRegressor(bootstrap=True, criterion='mse', max_depth=83,\n",
       "           max_features=0.851358, max_leaf_nodes=None,\n",
       "           min_impurity_decrease=0.0, min_impurity_split=None,\n",
       "           min_samples_leaf=1, min_samples_split=2,\n",
       "           min_weight_fraction_leaf=0.0, n_estimators=300, n_jobs=-1,\n",
       "           oob_score=False, random_state=37, verbose=0, warm_start=False)"
      ]
     },
     "execution_count": 96,
     "metadata": {},
     "output_type": "execute_result"
    }
   ],
   "source": [
    "from sklearn.ensemble import RandomForestRegressor\n",
    "\n",
    "model = RandomForestRegressor(n_estimators=300,\n",
    "                              max_depth=83,\n",
    "                              max_features=0.851358,\n",
    "                              random_state=37,\n",
    "                              n_jobs=-1)\n",
    "model.fit(X_train, y_train)"
   ]
  },
  {
   "cell_type": "markdown",
   "metadata": {
    "colab_type": "text",
    "id": "-a00-qyy6_wn"
   },
   "source": [
    "## Score (rmsle)"
   ]
  },
  {
   "cell_type": "markdown",
   "metadata": {
    "colab_type": "text",
    "id": "DH_STdfQ6_wp"
   },
   "source": [
    "$$ \\sqrt{\\frac{1}{n} \\sum_{i=1}^n (\\log(p_i + 1) - \\log(a_i+1))^2 } $$"
   ]
  },
  {
   "cell_type": "code",
   "execution_count": 97,
   "metadata": {
    "colab": {
     "base_uri": "https://localhost:8080/",
     "height": 33
    },
    "colab_type": "code",
    "id": "pCg3dLuh6_wq",
    "outputId": "a038cc99-8f23-4a59-d3fc-4ea0eada80ee",
    "scrolled": true
   },
   "outputs": [
    {
     "name": "stdout",
     "output_type": "stream",
     "text": [
      "Score = 42.91855\n"
     ]
    }
   ],
   "source": [
    "from sklearn.model_selection import cross_val_score\n",
    "\n",
    "score = cross_val_score(model, X_train, y_train, cv=5,\n",
    "                        scoring=rmsle_scorer).mean()\n",
    "\n",
    "print(\"Score = {0:.5f}\".format(score))"
   ]
  },
  {
   "cell_type": "markdown",
   "metadata": {
    "colab_type": "text",
    "id": "dEYPDvKn6_wt"
   },
   "source": [
    "## 주요 특성 변수"
   ]
  },
  {
   "cell_type": "code",
   "execution_count": 91,
   "metadata": {
    "colab": {
     "base_uri": "https://localhost:8080/",
     "height": 442
    },
    "colab_type": "code",
    "id": "LF_ik_es6_w-",
    "outputId": "dcacc195-3c56-4ec5-97ef-ebeae3dc06be"
   },
   "outputs": [
    {
     "data": {
      "image/png": "[encoded data removed]",
      "text/plain": [
       "<Figure size 720x504 with 1 Axes>"
      ]
     },
     "metadata": {
      "needs_background": "light"
     },
     "output_type": "display_data"
    }
   ],
   "source": [
    "df = pd.DataFrame({'feature':features,'importance':model.feature_importances_ })\n",
    "df=df.sort_values('importance', ascending=True)\n",
    "x = df.feature\n",
    "y = df.importance\n",
    "ypos = np.arange(len(x))\n",
    "\n",
    "plt.figure(figsize=(10,7))\n",
    "plt.barh(x, y)\n",
    "plt.yticks(ypos, x)\n",
    "plt.xlabel('Importance')\n",
    "plt.ylabel('Variable')\n",
    "plt.xlim(0, 1)\n",
    "plt.ylim(-1, len(x))\n",
    "plt.show()"
   ]
  },
  {
   "cell_type": "code",
   "execution_count": 0,
   "metadata": {
    "colab": {},
    "colab_type": "code",
    "id": "DP8r8NYJCcKo"
   },
   "outputs": [],
   "source": []
  }
 ],
 "metadata": {
  "accelerator": "GPU",
  "colab": {
   "name": "g-17-자전거대여예측-1.ipynb",
   "provenance": [],
   "version": "0.3.2"
  },
  "kernelspec": {
   "display_name": "Python 3",
   "language": "python",
   "name": "python3"
  },
  "language_info": {
   "codemirror_mode": {
    "name": "ipython",
    "version": 3
   },
   "file_extension": ".py",
   "mimetype": "text/x-python",
   "name": "python",
   "nbconvert_exporter": "python",
   "pygments_lexer": "ipython3",
   "version": "3.7.3"
  }
 },
 "nbformat": 4,
 "nbformat_minor": 1
}
