{
 "cells": [
  {
   "cell_type": "code",
   "execution_count": 54,
   "metadata": {},
   "outputs": [
    {
     "data": {
      "image/png": "[encoded data removed]",
      "text/plain": [
       "<Figure size 432x288 with 1 Axes>"
      ]
     },
     "metadata": {
      "needs_background": "light"
     },
     "output_type": "display_data"
    }
   ],
   "source": [
    "import numpy as np\n",
    "import matplotlib.pyplot as plt\n",
    "%matplotlib inline\n",
    "from sklearn.preprocessing import StandardScaler, MinMaxScaler\n",
    "\n",
    "x=np.random.randn(10000)*2 + 170\n",
    "plt.hist(x, bins=50)\n",
    "\n",
    "sc = StandardScaler()\n",
    "x_sc = sc.fit_transform(x.reshape(-1,1))\n",
    "x_min = MinMaxScaler().fit_transform(x.reshape(-1,1))\n",
    "\n",
    "plt.hist(x_sc, bins = 50)\n",
    "plt.hist(x_min, bins = 50); plt.show()"
   ]
  },
  {
   "cell_type": "code",
   "execution_count": 55,
   "metadata": {},
   "outputs": [
    {
     "data": {
      "text/plain": [
       "array([[0.81580529],\n",
       "       [0.75798221],\n",
       "       [2.18261632],\n",
       "       ...,\n",
       "       [2.66804544],\n",
       "       [2.80248695],\n",
       "       [2.21165126]])"
      ]
     },
     "execution_count": 55,
     "metadata": {},
     "output_type": "execute_result"
    }
   ],
   "source": [
    "y = x_sc + 2 ; y"
   ]
  },
  {
   "cell_type": "code",
   "execution_count": 56,
   "metadata": {},
   "outputs": [
    {
     "data": {
      "image/png": "[encoded data removed]",
      "text/plain": [
       "<Figure size 432x288 with 1 Axes>"
      ]
     },
     "metadata": {
      "needs_background": "light"
     },
     "output_type": "display_data"
    }
   ],
   "source": [
    "x_new = sc.inverse_transform(y)\n",
    "\n",
    "plt.hist(x, bins = 50)\n",
    "plt.hist(x_new, bins = 50); plt.show()"
   ]
  },
  {
   "cell_type": "markdown",
   "metadata": {},
   "source": [
    "## 선형모델"
   ]
  },
  {
   "cell_type": "code",
   "execution_count": 84,
   "metadata": {},
   "outputs": [
    {
     "data": {
      "text/plain": [
       "(array([0.69417798, 0.13147922, 0.44189069]),\n",
       " array([2.38835596, 1.26295844, 1.88378138]))"
      ]
     },
     "execution_count": 84,
     "metadata": {},
     "output_type": "execute_result"
    }
   ],
   "source": [
    "x = np.random.rand(3)\n",
    "y = 2*x + 1 \n",
    "\n",
    "x,y"
   ]
  },
  {
   "cell_type": "code",
   "execution_count": 85,
   "metadata": {},
   "outputs": [
    {
     "data": {
      "text/plain": [
       "(0.19386097266103952, 0.6567374499005659)"
      ]
     },
     "execution_count": 85,
     "metadata": {},
     "output_type": "execute_result"
    }
   ],
   "source": [
    "w = np.random.rand()\n",
    "b = np.random.rand()\n",
    "\n",
    "w,b #w는 2가 되고 b는 1이 되도록 모델링 필요"
   ]
  },
  {
   "cell_type": "code",
   "execution_count": 87,
   "metadata": {},
   "outputs": [
    {
     "name": "stdout",
     "output_type": "stream",
     "text": [
      "w=1.6795879694392915, b=1.1417021571911754, error=0.006942531572776171\n",
      "w=1.7081824855396597, b=1.1290562380970344, error=0.00632295954707048\n",
      "w=1.7342251425553887, b=1.1175388781787425, error=0.005758679959145881\n",
      "w=1.75794367592935, b=1.1070493614816943, error=0.005244758348524077\n",
      "w=1.7795454973207696, b=1.0974959602405951, error=0.004776700620549616\n",
      "w=1.7992195083597065, b=1.0887951327468741, error=0.004350413746860478\n",
      "w=1.8171377525367491, b=1.0808707928008359, error=0.003962169973019162\n",
      "w=1.8334569196731587, b=1.0736536443599727, error=0.00360857422043163\n",
      "w=1.8483197161277063, b=1.0670805755653532, error=0.0032865343973097114\n",
      "w=1.8618561127221258, b=1.0610941068467077, error=0.0029932343593227864\n",
      "w=1.8741844812981259, b=1.0556418882804968, error=0.00272610928310546\n",
      "w=1.8854126298445397, b=1.0506762418048803, error=0.0024828232378082404\n",
      "w=1.895638745246885, b=1.0461537442892597, error=0.002261248757810345\n",
      "w=1.904952251902875, b=1.0420348478112595, error=0.002059448239000098\n",
      "w=1.9134345937129478, b=1.0382835338222274, error=0.001875656994516121\n",
      "w=1.9211599462830957, b=1.0348669981747702, error=0.0017082678237285709\n",
      "w=1.9281958655693743, b=1.0317553642610893, error=0.0015558169568405205\n",
      "w=1.9346038786344102, b=1.028921421749327, error=0.0014169712558811387\n",
      "w=1.9404400216844935, b=1.0263403886391103, error=0.0012905165551084046\n",
      "w=1.9457553300886719, b=1.0239896945474873, error=0.001175347045811496\n",
      "w=1.9505962846698115, b=1.0218487833412102, error=0.0010704556031385277\n",
      "w=1.9550052181635929, b=1.019898933374261, error=0.0009749249834745862\n",
      "w=1.9590206854090286, b=1.0181230937794927, error=0.000887919797384118\n",
      "w=1.9626778004950534, b=1.0165057353541866, error=0.0008086792126530037\n",
      "w=1.9660085438288122, b=1.0150327147748608, error=0.0007365102896629653\n",
      "w=1.9690420417870043, b=1.0136911508999535, error=0.0006707819374536239\n",
      "w=1.9718048214285364, b=1.012469312152828, error=0.0006109193735626869\n",
      "w=1.9743210424508333, b=1.0113565138984426, error=0.0005563991271927046\n",
      "w=1.9766127084800729, b=1.010343025056194, error=0.0005067444211242685\n",
      "w=1.978699859458011, b=1.009419982940078, error=0.00046152105805800464\n"
     ]
    }
   ],
   "source": [
    "epoch = 30 \n",
    "lr = 2 # learning rate\n",
    "\n",
    "for i in range(epoch):\n",
    "    y_pred = w*x + b\n",
    "    e = y_pred - y\n",
    "    w = w - lr*(e*x).mean()\n",
    "    b = b - lr*e.mean()\n",
    "    print(f\"w={w}, b={b}, error={e.mean()}\")"
   ]
  },
  {
   "cell_type": "code",
   "execution_count": 88,
   "metadata": {},
   "outputs": [],
   "source": [
    "from sklearn.linear_model import LinearRegression"
   ]
  },
  {
   "cell_type": "code",
   "execution_count": 91,
   "metadata": {},
   "outputs": [
    {
     "data": {
      "text/plain": [
       "LinearRegression(copy_X=True, fit_intercept=True, n_jobs=None,\n",
       "         normalize=False)"
      ]
     },
     "execution_count": 91,
     "metadata": {},
     "output_type": "execute_result"
    }
   ],
   "source": [
    "lin = LinearRegression()\n",
    "lin.fit(x.reshape(-1,1), y)"
   ]
  },
  {
   "cell_type": "code",
   "execution_count": 94,
   "metadata": {},
   "outputs": [
    {
     "name": "stdout",
     "output_type": "stream",
     "text": [
      "lin.coef_:[2.]\n",
      "lin.intercept_:1.0\n"
     ]
    }
   ],
   "source": [
    "print(f\"lin.coef_:{lin.coef_}\")\n",
    "print(f\"lin.intercept_:{lin.intercept_}\")"
   ]
  },
  {
   "cell_type": "code",
   "execution_count": 95,
   "metadata": {},
   "outputs": [
    {
     "data": {
      "text/plain": [
       "array([0.95531296, 0.28523964, 0.4891776 , 0.38993658, 0.0681009 ,\n",
       "       0.29841795, 0.79300435, 0.78465022, 0.02496528, 0.20567223,\n",
       "       0.83738977, 0.26108393, 0.67720028, 0.5005484 , 0.21454844,\n",
       "       0.54954967, 0.92649903, 0.17981763, 0.26582759, 0.34050668,\n",
       "       0.64070395, 0.96555063, 0.38613766, 0.68287125, 0.59708207,\n",
       "       0.07278156, 0.17471806, 0.48333725, 0.92693219, 0.29405267,\n",
       "       0.41506644, 0.0315783 , 0.63880848, 0.55463344, 0.54817236,\n",
       "       0.92840644, 0.71771346, 0.29842343, 0.1302028 , 0.3065891 ,\n",
       "       0.12846426, 0.48592334, 0.40521006, 0.16669202, 0.79384538,\n",
       "       0.64005311, 0.22951063, 0.8437368 , 0.18254685, 0.5327141 ,\n",
       "       0.35722634, 0.4616304 , 0.30480354, 0.17659252, 0.69950348,\n",
       "       0.29304359, 0.68024979, 0.77556256, 0.92669943, 0.09615224,\n",
       "       0.68759348, 0.04419437, 0.46211712, 0.62338811, 0.06352799,\n",
       "       0.74933228, 0.57270212, 0.90273031, 0.37490795, 0.86414015,\n",
       "       0.84139264, 0.56553301, 0.87367647, 0.92706753, 0.31698022,\n",
       "       0.33730166, 0.41067796, 0.83013373, 0.72141408, 0.8531873 ,\n",
       "       0.47507867, 0.36487941, 0.68540389, 0.69441972, 0.95565908,\n",
       "       0.25795416, 0.97045378, 0.93445455, 0.31894578, 0.63192981,\n",
       "       0.48898382, 0.80327816, 0.79432491, 0.57141018, 0.55863051,\n",
       "       0.08364625, 0.98635559, 0.29636354, 0.06825613, 0.47807071])"
      ]
     },
     "execution_count": 95,
     "metadata": {},
     "output_type": "execute_result"
    }
   ],
   "source": [
    "height = np.random.rand(100)\n"
   ]
  }
 ],
 "metadata": {
  "kernelspec": {
   "display_name": "Python 3",
   "language": "python",
   "name": "python3"
  },
  "language_info": {
   "codemirror_mode": {
    "name": "ipython",
    "version": 3
   },
   "file_extension": ".py",
   "mimetype": "text/x-python",
   "name": "python",
   "nbconvert_exporter": "python",
   "pygments_lexer": "ipython3",
   "version": "3.7.3"
  }
 },
 "nbformat": 4,
 "nbformat_minor": 2
}
