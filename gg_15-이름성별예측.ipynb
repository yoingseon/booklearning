{
 "cells": [
  {
   "cell_type": "markdown",
   "metadata": {},
   "source": [
    "# 영문 이름으로 성별 예측"
   ]
  },
  {
   "cell_type": "code",
   "execution_count": 1,
   "metadata": {},
   "outputs": [
    {
     "name": "stderr",
     "output_type": "stream",
     "text": [
      "[nltk_data] Downloading package names to\n",
      "[nltk_data]     C:\\Users\\PYS\\AppData\\Roaming\\nltk_data...\n",
      "[nltk_data]   Unzipping corpora\\names.zip.\n"
     ]
    },
    {
     "data": {
      "text/plain": [
       "True"
      ]
     },
     "execution_count": 1,
     "metadata": {},
     "output_type": "execute_result"
    }
   ],
   "source": [
    "from nltk.corpus import names\n",
    "import nltk\n",
    "nltk.download('names')"
   ]
  },
  {
   "cell_type": "code",
   "execution_count": 12,
   "metadata": {
    "scrolled": false
   },
   "outputs": [
    {
     "data": {
      "text/plain": [
       "[('Aamir', '남자'),\n",
       " ('Aaron', '남자'),\n",
       " ('Abbey', '남자'),\n",
       " ('Abbie', '남자'),\n",
       " ('Abbot', '남자'),\n",
       " ('Abbott', '남자'),\n",
       " ('Abby', '남자'),\n",
       " ('Abdel', '남자'),\n",
       " ('Abdul', '남자'),\n",
       " ('Abdulkarim', '남자')]"
      ]
     },
     "execution_count": 12,
     "metadata": {},
     "output_type": "execute_result"
    }
   ],
   "source": [
    "labeled_names = ([(name, '남자') for name in names.words('male.txt')] + \n",
    "                 [(name, '여자') for name in names.words('female.txt')])\n",
    "labeled_names[:10]"
   ]
  },
  {
   "cell_type": "code",
   "execution_count": 13,
   "metadata": {},
   "outputs": [
    {
     "data": {
      "text/plain": [
       "(2943, 5001)"
      ]
     },
     "execution_count": 13,
     "metadata": {},
     "output_type": "execute_result"
    }
   ],
   "source": [
    "len(names.words('male.txt')), len(names.words('female.txt'))"
   ]
  },
  {
   "cell_type": "code",
   "execution_count": 14,
   "metadata": {},
   "outputs": [
    {
     "data": {
      "text/plain": [
       "[('William', '남자'),\n",
       " ('Lacy', '여자'),\n",
       " ('Felicio', '남자'),\n",
       " ('Pepi', '여자'),\n",
       " ('Arlyn', '여자'),\n",
       " ('Kati', '여자'),\n",
       " ('Joellen', '여자'),\n",
       " ('Chaddy', '남자'),\n",
       " ('Meriel', '여자'),\n",
       " ('Agata', '여자')]"
      ]
     },
     "execution_count": 14,
     "metadata": {},
     "output_type": "execute_result"
    }
   ],
   "source": [
    "import random\n",
    "random.shuffle(labeled_names, )\n",
    "labeled_names[0:10]"
   ]
  },
  {
   "cell_type": "code",
   "execution_count": 17,
   "metadata": {},
   "outputs": [
    {
     "data": {
      "text/plain": [
       "{'last_letter': 'a'}"
      ]
     },
     "execution_count": 17,
     "metadata": {},
     "output_type": "execute_result"
    }
   ],
   "source": [
    "def gender_features(word):\n",
    "    return {'last_letter': word[-1]}\n",
    "\n",
    "gender_features('Sopia')"
   ]
  },
  {
   "cell_type": "code",
   "execution_count": 27,
   "metadata": {},
   "outputs": [
    {
     "data": {
      "text/plain": [
       "[({'last_letter': 'm'}, '남자'),\n",
       " ({'last_letter': 'y'}, '여자'),\n",
       " ({'last_letter': 'o'}, '남자'),\n",
       " ({'last_letter': 'i'}, '여자'),\n",
       " ({'last_letter': 'n'}, '여자'),\n",
       " ({'last_letter': 'i'}, '여자'),\n",
       " ({'last_letter': 'n'}, '여자'),\n",
       " ({'last_letter': 'y'}, '남자'),\n",
       " ({'last_letter': 'l'}, '여자'),\n",
       " ({'last_letter': 'a'}, '여자')]"
      ]
     },
     "execution_count": 27,
     "metadata": {},
     "output_type": "execute_result"
    }
   ],
   "source": [
    "featuresets = [(gender_features(n), gender) for (n, gender) in labeled_names]\n",
    "featuresets[0:10]\n"
   ]
  },
  {
   "cell_type": "code",
   "execution_count": 28,
   "metadata": {},
   "outputs": [],
   "source": [
    "train_set, test_set = featuresets[2000:], featuresets[:2000]\n",
    "classifier = nltk.NaiveBayesClassifier.train(train_set)"
   ]
  },
  {
   "cell_type": "code",
   "execution_count": 29,
   "metadata": {},
   "outputs": [
    {
     "data": {
      "text/plain": [
       "'여자'"
      ]
     },
     "execution_count": 29,
     "metadata": {},
     "output_type": "execute_result"
    }
   ],
   "source": [
    "classifier.classify(gender_features('Sephipa'))"
   ]
  },
  {
   "cell_type": "code",
   "execution_count": 33,
   "metadata": {},
   "outputs": [
    {
     "name": "stdout",
     "output_type": "stream",
     "text": [
      "Most Informative Features\n",
      "             last_letter = 'a'                여자 : 남자     =     32.0 : 1.0\n",
      "             last_letter = 'k'                남자 : 여자     =     23.5 : 1.0\n",
      "             last_letter = 'f'                남자 : 여자     =     15.3 : 1.0\n",
      "             last_letter = 'v'                남자 : 여자     =     14.1 : 1.0\n",
      "             last_letter = 'd'                남자 : 여자     =     11.4 : 1.0\n",
      "             last_letter = 'm'                남자 : 여자     =      8.6 : 1.0\n",
      "             last_letter = 'o'                남자 : 여자     =      8.3 : 1.0\n"
     ]
    }
   ],
   "source": [
    "#  likelihood ratios\n",
    "classifier.show_most_informative_features(7)"
   ]
  },
  {
   "cell_type": "code",
   "execution_count": 35,
   "metadata": {},
   "outputs": [
    {
     "name": "stdout",
     "output_type": "stream",
     "text": [
      "0.764\n"
     ]
    }
   ],
   "source": [
    "print(nltk.classify.accuracy(classifier, test_set))\n",
    "#0.764"
   ]
  },
  {
   "cell_type": "code",
   "execution_count": 36,
   "metadata": {
    "scrolled": true
   },
   "outputs": [
    {
     "data": {
      "text/plain": [
       "{'first_letter': 'j',\n",
       " 'last_letter': 'a',\n",
       " 'length': 6,\n",
       " 'count(a)': 1,\n",
       " 'count(b)': 0,\n",
       " 'count(c)': 0,\n",
       " 'count(d)': 0,\n",
       " 'count(e)': 0,\n",
       " 'count(f)': 0,\n",
       " 'count(g)': 0,\n",
       " 'count(h)': 1,\n",
       " 'count(i)': 0,\n",
       " 'count(j)': 1,\n",
       " 'count(k)': 0,\n",
       " 'count(l)': 0,\n",
       " 'count(m)': 0,\n",
       " 'count(n)': 0,\n",
       " 'count(o)': 1,\n",
       " 'count(p)': 0,\n",
       " 'count(q)': 0,\n",
       " 'count(r)': 0,\n",
       " 'count(s)': 1,\n",
       " 'count(t)': 0,\n",
       " 'count(u)': 1,\n",
       " 'count(v)': 0,\n",
       " 'count(w)': 0,\n",
       " 'count(x)': 0,\n",
       " 'count(y)': 0,\n",
       " 'count(z)': 0}"
      ]
     },
     "execution_count": 36,
     "metadata": {},
     "output_type": "execute_result"
    }
   ],
   "source": [
    "def gender_features2(name):\n",
    "    features = {}\n",
    "    features[\"first_letter\"] = name[0].lower()\n",
    "    features[\"last_letter\"] = name[-1].lower()\n",
    "    features[\"length\"] = len(name)\n",
    "    for letter in 'abcdefghijklmnopqrstuvwxyz':\n",
    "        features[\"count({})\".format(letter)] = name.lower().count(letter)\n",
    "#        features[\"has({})\".format(letter)] = (letter in name.lower())\n",
    "    return features\n",
    "\n",
    "gender_features2('Joshua') "
   ]
  },
  {
   "cell_type": "code",
   "execution_count": 37,
   "metadata": {},
   "outputs": [
    {
     "data": {
      "text/plain": [
       "[('William', '남자'),\n",
       " ('Lacy', '여자'),\n",
       " ('Felicio', '남자'),\n",
       " ('Pepi', '여자'),\n",
       " ('Arlyn', '여자'),\n",
       " ('Kati', '여자'),\n",
       " ('Joellen', '여자'),\n",
       " ('Chaddy', '남자'),\n",
       " ('Meriel', '여자'),\n",
       " ('Agata', '여자')]"
      ]
     },
     "execution_count": 37,
     "metadata": {},
     "output_type": "execute_result"
    }
   ],
   "source": [
    "labeled_names[0:10]"
   ]
  },
  {
   "cell_type": "code",
   "execution_count": 38,
   "metadata": {},
   "outputs": [
    {
     "data": {
      "text/plain": [
       "[({'first_letter': 'w',\n",
       "   'last_letter': 'm',\n",
       "   'length': 7,\n",
       "   'count(a)': 1,\n",
       "   'count(b)': 0,\n",
       "   'count(c)': 0,\n",
       "   'count(d)': 0,\n",
       "   'count(e)': 0,\n",
       "   'count(f)': 0,\n",
       "   'count(g)': 0,\n",
       "   'count(h)': 0,\n",
       "   'count(i)': 2,\n",
       "   'count(j)': 0,\n",
       "   'count(k)': 0,\n",
       "   'count(l)': 2,\n",
       "   'count(m)': 1,\n",
       "   'count(n)': 0,\n",
       "   'count(o)': 0,\n",
       "   'count(p)': 0,\n",
       "   'count(q)': 0,\n",
       "   'count(r)': 0,\n",
       "   'count(s)': 0,\n",
       "   'count(t)': 0,\n",
       "   'count(u)': 0,\n",
       "   'count(v)': 0,\n",
       "   'count(w)': 1,\n",
       "   'count(x)': 0,\n",
       "   'count(y)': 0,\n",
       "   'count(z)': 0},\n",
       "  '남자'),\n",
       " ({'first_letter': 'l',\n",
       "   'last_letter': 'y',\n",
       "   'length': 4,\n",
       "   'count(a)': 1,\n",
       "   'count(b)': 0,\n",
       "   'count(c)': 1,\n",
       "   'count(d)': 0,\n",
       "   'count(e)': 0,\n",
       "   'count(f)': 0,\n",
       "   'count(g)': 0,\n",
       "   'count(h)': 0,\n",
       "   'count(i)': 0,\n",
       "   'count(j)': 0,\n",
       "   'count(k)': 0,\n",
       "   'count(l)': 1,\n",
       "   'count(m)': 0,\n",
       "   'count(n)': 0,\n",
       "   'count(o)': 0,\n",
       "   'count(p)': 0,\n",
       "   'count(q)': 0,\n",
       "   'count(r)': 0,\n",
       "   'count(s)': 0,\n",
       "   'count(t)': 0,\n",
       "   'count(u)': 0,\n",
       "   'count(v)': 0,\n",
       "   'count(w)': 0,\n",
       "   'count(x)': 0,\n",
       "   'count(y)': 1,\n",
       "   'count(z)': 0},\n",
       "  '여자')]"
      ]
     },
     "execution_count": 38,
     "metadata": {},
     "output_type": "execute_result"
    }
   ],
   "source": [
    "featuresets = [(gender_features2(n), gender) for (n, gender) in labeled_names]\n",
    "featuresets[0:2]"
   ]
  },
  {
   "cell_type": "code",
   "execution_count": 39,
   "metadata": {
    "scrolled": true
   },
   "outputs": [
    {
     "name": "stdout",
     "output_type": "stream",
     "text": [
      "0.7915\n"
     ]
    }
   ],
   "source": [
    "train_set, test_set = featuresets[2000:], featuresets[:2000]\n",
    "classifier = nltk.NaiveBayesClassifier.train(train_set)\n",
    "print(nltk.classify.accuracy(classifier, test_set))\n",
    "#0.7915"
   ]
  },
  {
   "cell_type": "code",
   "execution_count": 40,
   "metadata": {},
   "outputs": [
    {
     "name": "stdout",
     "output_type": "stream",
     "text": [
      "Most Informative Features\n",
      "             last_letter = 'a'                여자 : 남자     =     32.0 : 1.0\n",
      "             last_letter = 'k'                남자 : 여자     =     23.5 : 1.0\n",
      "             last_letter = 'f'                남자 : 여자     =     15.3 : 1.0\n",
      "             last_letter = 'v'                남자 : 여자     =     14.1 : 1.0\n",
      "             last_letter = 'd'                남자 : 여자     =     11.4 : 1.0\n",
      "             last_letter = 'm'                남자 : 여자     =      8.6 : 1.0\n",
      "             last_letter = 'o'                남자 : 여자     =      8.3 : 1.0\n",
      "             last_letter = 'p'                남자 : 여자     =      7.8 : 1.0\n",
      "                count(v) = 2                  여자 : 남자     =      7.6 : 1.0\n",
      "             last_letter = 'r'                남자 : 여자     =      7.3 : 1.0\n",
      "             last_letter = 'w'                남자 : 여자     =      6.2 : 1.0\n",
      "                count(a) = 3                  여자 : 남자     =      5.3 : 1.0\n",
      "            first_letter = 'w'                남자 : 여자     =      5.2 : 1.0\n",
      "                count(w) = 2                  남자 : 여자     =      5.1 : 1.0\n",
      "                count(w) = 1                  남자 : 여자     =      4.9 : 1.0\n",
      "             last_letter = 'b'                남자 : 여자     =      4.8 : 1.0\n",
      "             last_letter = 'g'                남자 : 여자     =      4.1 : 1.0\n",
      "                count(f) = 2                  남자 : 여자     =      4.0 : 1.0\n",
      "             last_letter = 't'                남자 : 여자     =      4.0 : 1.0\n",
      "             last_letter = 'z'                남자 : 여자     =      4.0 : 1.0\n",
      "                count(o) = 2                  남자 : 여자     =      3.9 : 1.0\n",
      "             last_letter = 's'                남자 : 여자     =      3.8 : 1.0\n",
      "             last_letter = 'i'                여자 : 남자     =      3.2 : 1.0\n",
      "                count(a) = 2                  여자 : 남자     =      3.0 : 1.0\n",
      "                count(e) = 3                  여자 : 남자     =      2.9 : 1.0\n",
      "                count(m) = 3                  남자 : 여자     =      2.8 : 1.0\n",
      "                count(d) = 3                  남자 : 여자     =      2.8 : 1.0\n",
      "             last_letter = 'j'                남자 : 여자     =      2.8 : 1.0\n",
      "                count(i) = 3                  남자 : 여자     =      2.7 : 1.0\n",
      "                  length = 2                  남자 : 여자     =      2.5 : 1.0\n",
      "                count(l) = 3                  여자 : 남자     =      2.4 : 1.0\n",
      "                count(u) = 2                  남자 : 여자     =      2.3 : 1.0\n",
      "            first_letter = 'x'                남자 : 여자     =      2.3 : 1.0\n",
      "            first_letter = 'h'                남자 : 여자     =      2.3 : 1.0\n",
      "            first_letter = 'u'                남자 : 여자     =      2.2 : 1.0\n",
      "                count(z) = 2                  여자 : 남자     =      2.2 : 1.0\n",
      "                count(h) = 2                  남자 : 여자     =      2.2 : 1.0\n",
      "                count(p) = 2                  남자 : 여자     =      2.1 : 1.0\n",
      "             last_letter = 'n'                남자 : 여자     =      2.0 : 1.0\n",
      "            first_letter = 'k'                여자 : 남자     =      2.0 : 1.0\n",
      "                  length = 3                  남자 : 여자     =      2.0 : 1.0\n",
      "             last_letter = 'u'                남자 : 여자     =      2.0 : 1.0\n",
      "                count(i) = 2                  여자 : 남자     =      1.9 : 1.0\n",
      "                count(k) = 2                  여자 : 남자     =      1.9 : 1.0\n",
      "                count(r) = 2                  남자 : 여자     =      1.9 : 1.0\n",
      "                count(n) = 3                  여자 : 남자     =      1.8 : 1.0\n",
      "             last_letter = 'e'                여자 : 남자     =      1.8 : 1.0\n",
      "                count(n) = 2                  여자 : 남자     =      1.8 : 1.0\n",
      "                count(p) = 3                  여자 : 남자     =      1.8 : 1.0\n",
      "                count(y) = 2                  여자 : 남자     =      1.8 : 1.0\n",
      "            first_letter = 't'                남자 : 여자     =      1.8 : 1.0\n",
      "                count(t) = 2                  여자 : 남자     =      1.7 : 1.0\n",
      "                count(z) = 1                  남자 : 여자     =      1.7 : 1.0\n",
      "                count(h) = 3                  남자 : 여자     =      1.7 : 1.0\n",
      "                count(l) = 4                  남자 : 여자     =      1.7 : 1.0\n",
      "            first_letter = 'l'                여자 : 남자     =      1.7 : 1.0\n",
      "                  length = 15                 남자 : 여자     =      1.7 : 1.0\n",
      "            first_letter = 'q'                남자 : 여자     =      1.7 : 1.0\n",
      "             last_letter = 'x'                남자 : 여자     =      1.7 : 1.0\n",
      "             last_letter = 'l'                남자 : 여자     =      1.7 : 1.0\n",
      "                count(u) = 1                  남자 : 여자     =      1.7 : 1.0\n",
      "            first_letter = 'c'                여자 : 남자     =      1.6 : 1.0\n",
      "                count(p) = 1                  남자 : 여자     =      1.6 : 1.0\n",
      "                count(d) = 2                  남자 : 여자     =      1.6 : 1.0\n",
      "                count(e) = 2                  여자 : 남자     =      1.6 : 1.0\n",
      "                count(l) = 2                  여자 : 남자     =      1.6 : 1.0\n",
      "            first_letter = 'z'                남자 : 여자     =      1.6 : 1.0\n",
      "                count(f) = 1                  남자 : 여자     =      1.5 : 1.0\n",
      "                count(a) = 0                  남자 : 여자     =      1.5 : 1.0\n",
      "                  length = 9                  여자 : 남자     =      1.5 : 1.0\n",
      "                count(g) = 1                  남자 : 여자     =      1.5 : 1.0\n",
      "            first_letter = 'p'                남자 : 여자     =      1.4 : 1.0\n",
      "                count(b) = 2                  여자 : 남자     =      1.4 : 1.0\n",
      "            first_letter = 'y'                남자 : 여자     =      1.4 : 1.0\n",
      "                count(e) = 4                  여자 : 남자     =      1.4 : 1.0\n",
      "                count(v) = 1                  남자 : 여자     =      1.4 : 1.0\n",
      "            first_letter = 'n'                여자 : 남자     =      1.4 : 1.0\n",
      "                count(s) = 2                  여자 : 남자     =      1.4 : 1.0\n",
      "                count(m) = 2                  남자 : 여자     =      1.4 : 1.0\n",
      "                count(o) = 1                  남자 : 여자     =      1.4 : 1.0\n",
      "            first_letter = 'm'                여자 : 남자     =      1.4 : 1.0\n",
      "                count(q) = 1                  여자 : 남자     =      1.4 : 1.0\n",
      "                  length = 10                 여자 : 남자     =      1.4 : 1.0\n",
      "                count(i) = 1                  여자 : 남자     =      1.4 : 1.0\n",
      "                  length = 4                  남자 : 여자     =      1.3 : 1.0\n",
      "                count(b) = 1                  남자 : 여자     =      1.3 : 1.0\n",
      "                count(i) = 0                  남자 : 여자     =      1.3 : 1.0\n",
      "                count(h) = 1                  남자 : 여자     =      1.3 : 1.0\n",
      "            first_letter = 'e'                여자 : 남자     =      1.3 : 1.0\n",
      "             last_letter = 'h'                남자 : 여자     =      1.3 : 1.0\n",
      "                count(s) = 1                  남자 : 여자     =      1.3 : 1.0\n",
      "                count(x) = 1                  남자 : 여자     =      1.3 : 1.0\n",
      "            first_letter = 'd'                여자 : 남자     =      1.3 : 1.0\n",
      "            first_letter = 'v'                여자 : 남자     =      1.3 : 1.0\n",
      "            first_letter = 'o'                남자 : 여자     =      1.3 : 1.0\n",
      "            first_letter = 'r'                남자 : 여자     =      1.3 : 1.0\n",
      "            first_letter = 'g'                남자 : 여자     =      1.3 : 1.0\n",
      "            first_letter = 's'                남자 : 여자     =      1.3 : 1.0\n",
      "                count(t) = 1                  남자 : 여자     =      1.3 : 1.0\n",
      "            first_letter = 'j'                여자 : 남자     =      1.2 : 1.0\n"
     ]
    }
   ],
   "source": [
    "classifier.show_most_informative_features(100)"
   ]
  },
  {
   "cell_type": "code",
   "execution_count": 41,
   "metadata": {},
   "outputs": [],
   "source": [
    ">>> train_names = labeled_names[1500:]\n",
    ">>> devtest_names = labeled_names[500:1500]\n",
    ">>> test_names = labeled_names[:500]"
   ]
  },
  {
   "cell_type": "code",
   "execution_count": 42,
   "metadata": {},
   "outputs": [
    {
     "name": "stdout",
     "output_type": "stream",
     "text": [
      "0.747\n"
     ]
    }
   ],
   "source": [
    "train_set = [(gender_features(n), gender) for (n, gender) in train_names]\n",
    "devtest_set = [(gender_features(n), gender) for (n, gender) in devtest_names]\n",
    "test_set = [(gender_features(n), gender) for (n, gender) in test_names]\n",
    "classifier = nltk.NaiveBayesClassifier.train(train_set)\n",
    "print(nltk.classify.accuracy(classifier, devtest_set)) "
   ]
  },
  {
   "cell_type": "code",
   "execution_count": 43,
   "metadata": {},
   "outputs": [
    {
     "data": {
      "text/plain": [
       "[({'last_letter': 'a'}, '여자'),\n",
       " ({'last_letter': 'r'}, '남자'),\n",
       " ({'last_letter': 'x'}, '여자'),\n",
       " ({'last_letter': 'e'}, '여자'),\n",
       " ({'last_letter': 'e'}, '여자'),\n",
       " ({'last_letter': 's'}, '여자'),\n",
       " ({'last_letter': 'i'}, '여자'),\n",
       " ({'last_letter': 'e'}, '남자'),\n",
       " ({'last_letter': 'y'}, '여자'),\n",
       " ({'last_letter': 'a'}, '여자'),\n",
       " ({'last_letter': 'y'}, '여자'),\n",
       " ({'last_letter': 'a'}, '여자'),\n",
       " ({'last_letter': 'r'}, '남자'),\n",
       " ({'last_letter': 'e'}, '남자'),\n",
       " ({'last_letter': 's'}, '남자'),\n",
       " ({'last_letter': 'a'}, '여자'),\n",
       " ({'last_letter': 'i'}, '남자'),\n",
       " ({'last_letter': 'u'}, '남자'),\n",
       " ({'last_letter': 'k'}, '남자'),\n",
       " ({'last_letter': 'a'}, '여자')]"
      ]
     },
     "execution_count": 43,
     "metadata": {},
     "output_type": "execute_result"
    }
   ],
   "source": [
    "train_set[:20]"
   ]
  },
  {
   "cell_type": "code",
   "execution_count": 44,
   "metadata": {},
   "outputs": [],
   "source": [
    "errors = []\n",
    "for (name, tag) in devtest_names:\n",
    "    guess = classifier.classify(gender_features(name))\n",
    "    if guess != tag:\n",
    "        errors.append( (tag, guess, name) )"
   ]
  },
  {
   "cell_type": "code",
   "execution_count": 45,
   "metadata": {},
   "outputs": [
    {
     "name": "stdout",
     "output_type": "stream",
     "text": [
      "correct=남자       guess=여자       name=Abdullah                      \n",
      "correct=남자       guess=여자       name=Alix                          \n",
      "correct=남자       guess=여자       name=Ambrose                       \n",
      "correct=남자       guess=여자       name=Amery                         \n",
      "correct=남자       guess=여자       name=Ansel                         \n",
      "correct=남자       guess=여자       name=Antone                        \n",
      "correct=남자       guess=여자       name=Ariel                         \n",
      "correct=남자       guess=여자       name=Ashby                         \n",
      "correct=남자       guess=여자       name=Augustine                     \n",
      "correct=남자       guess=여자       name=Averell                       \n",
      "correct=남자       guess=여자       name=Baily                         \n",
      "correct=남자       guess=여자       name=Bary                          \n",
      "correct=남자       guess=여자       name=Berkley                       \n",
      "correct=남자       guess=여자       name=Billy                         \n",
      "correct=남자       guess=여자       name=Bobbie                        \n",
      "correct=남자       guess=여자       name=Boniface                      \n",
      "correct=남자       guess=여자       name=Broddie                       \n",
      "correct=남자       guess=여자       name=Brooke                        \n",
      "correct=남자       guess=여자       name=Bucky                         \n",
      "correct=남자       guess=여자       name=Burnaby                       \n",
      "correct=남자       guess=여자       name=Butch                         \n",
      "correct=남자       guess=여자       name=Cammy                         \n",
      "correct=남자       guess=여자       name=Carmine                       \n",
      "correct=남자       guess=여자       name=Charley                       \n",
      "correct=남자       guess=여자       name=Chaunce                       \n",
      "correct=남자       guess=여자       name=Christoph                     \n",
      "correct=남자       guess=여자       name=Clancy                        \n",
      "correct=남자       guess=여자       name=Clay                          \n",
      "correct=남자       guess=여자       name=Clive                         \n",
      "correct=남자       guess=여자       name=Clyde                         \n",
      "correct=남자       guess=여자       name=Cobbie                        \n",
      "correct=남자       guess=여자       name=Cole                          \n",
      "correct=남자       guess=여자       name=Conroy                        \n",
      "correct=남자       guess=여자       name=Corrie                        \n",
      "correct=남자       guess=여자       name=Costa                         \n",
      "correct=남자       guess=여자       name=Curtice                       \n",
      "correct=남자       guess=여자       name=Dabney                        \n",
      "correct=남자       guess=여자       name=Darth                         \n",
      "correct=남자       guess=여자       name=Daryl                         \n",
      "correct=남자       guess=여자       name=Dennie                        \n",
      "correct=남자       guess=여자       name=Deryl                         \n",
      "correct=남자       guess=여자       name=Dickey                        \n",
      "correct=남자       guess=여자       name=Dominique                     \n",
      "correct=남자       guess=여자       name=Donny                         \n",
      "correct=남자       guess=여자       name=Drake                         \n",
      "correct=남자       guess=여자       name=Durante                       \n",
      "correct=남자       guess=여자       name=Dwane                         \n",
      "correct=남자       guess=여자       name=Emory                         \n",
      "correct=남자       guess=여자       name=Ezra                          \n",
      "correct=남자       guess=여자       name=Fonzie                        \n",
      "correct=남자       guess=여자       name=Friedrich                     \n",
      "correct=남자       guess=여자       name=Gabe                          \n",
      "correct=남자       guess=여자       name=Gabriell                      \n",
      "correct=남자       guess=여자       name=Gail                          \n",
      "correct=남자       guess=여자       name=Garfinkel                     \n",
      "correct=남자       guess=여자       name=Gay                           \n",
      "correct=남자       guess=여자       name=George                        \n",
      "correct=남자       guess=여자       name=Gerri                         \n",
      "correct=남자       guess=여자       name=Gerry                         \n",
      "correct=남자       guess=여자       name=Giovanne                      \n",
      "correct=남자       guess=여자       name=Godfree                       \n",
      "correct=남자       guess=여자       name=Grady                         \n",
      "correct=남자       guess=여자       name=Gustave                       \n",
      "correct=남자       guess=여자       name=Guthrie                       \n",
      "correct=남자       guess=여자       name=Hadley                        \n",
      "correct=남자       guess=여자       name=Hall                          \n",
      "correct=남자       guess=여자       name=Harry                         \n",
      "correct=남자       guess=여자       name=Harwell                       \n",
      "correct=남자       guess=여자       name=Haskel                        \n",
      "correct=남자       guess=여자       name=Hillary                       \n",
      "correct=남자       guess=여자       name=Hymie                         \n",
      "correct=남자       guess=여자       name=Iggy                          \n",
      "correct=남자       guess=여자       name=Ikey                          \n",
      "correct=남자       guess=여자       name=Irvine                        \n",
      "correct=남자       guess=여자       name=Jean-Paul                     \n",
      "correct=남자       guess=여자       name=Jeffry                        \n",
      "correct=남자       guess=여자       name=Jeremiah                      \n",
      "correct=남자       guess=여자       name=Jeremie                       \n",
      "correct=남자       guess=여자       name=Jeromy                        \n",
      "correct=남자       guess=여자       name=Jerri                         \n",
      "correct=남자       guess=여자       name=Jessee                        \n",
      "correct=남자       guess=여자       name=Jorge                         \n",
      "correct=남자       guess=여자       name=Josiah                        \n",
      "correct=남자       guess=여자       name=Juanita                       \n",
      "correct=남자       guess=여자       name=Laurance                      \n",
      "correct=남자       guess=여자       name=Leigh                         \n",
      "correct=남자       guess=여자       name=Lowell                        \n",
      "correct=남자       guess=여자       name=Mahesh                        \n",
      "correct=남자       guess=여자       name=Marlowe                       \n",
      "correct=남자       guess=여자       name=Marsh                         \n",
      "correct=남자       guess=여자       name=Meredith                      \n",
      "correct=남자       guess=여자       name=Merill                        \n",
      "correct=남자       guess=여자       name=Merle                         \n",
      "correct=남자       guess=여자       name=Merril                        \n",
      "correct=남자       guess=여자       name=Merrill                       \n",
      "correct=남자       guess=여자       name=Merry                         \n",
      "correct=남자       guess=여자       name=Michail                       \n",
      "correct=남자       guess=여자       name=Michale                       \n",
      "correct=남자       guess=여자       name=Mikey                         \n",
      "correct=남자       guess=여자       name=Mitchell                      \n",
      "correct=남자       guess=여자       name=Monty                         \n",
      "correct=남자       guess=여자       name=Mortie                        \n",
      "correct=남자       guess=여자       name=Natale                        \n",
      "correct=남자       guess=여자       name=Nathanil                      \n",
      "correct=남자       guess=여자       name=Neale                         \n",
      "correct=남자       guess=여자       name=Neville                       \n",
      "correct=남자       guess=여자       name=Niall                         \n",
      "correct=남자       guess=여자       name=Nickie                        \n",
      "correct=남자       guess=여자       name=Normie                        \n",
      "correct=남자       guess=여자       name=Obie                          \n",
      "correct=남자       guess=여자       name=Pail                          \n",
      "correct=남자       guess=여자       name=Patel                         \n",
      "correct=남자       guess=여자       name=Patrice                       \n",
      "correct=남자       guess=여자       name=Pavel                         \n",
      "correct=남자       guess=여자       name=Percival                      \n",
      "correct=남자       guess=여자       name=Pierce                        \n",
      "correct=남자       guess=여자       name=Purcell                       \n",
      "correct=남자       guess=여자       name=Rabbi                         \n",
      "correct=남자       guess=여자       name=Rafael                        \n",
      "correct=남자       guess=여자       name=Ramsey                        \n",
      "correct=남자       guess=여자       name=Randell                       \n",
      "correct=남자       guess=여자       name=Raphael                       \n",
      "correct=남자       guess=여자       name=Reggie                        \n",
      "correct=남자       guess=여자       name=Reggy                         \n",
      "correct=남자       guess=여자       name=Rey                           \n",
      "correct=남자       guess=여자       name=Rodolphe                      \n",
      "correct=남자       guess=여자       name=Rourke                        \n",
      "correct=남자       guess=여자       name=Royce                         \n",
      "correct=남자       guess=여자       name=Rutledge                      \n",
      "correct=남자       guess=여자       name=Salomone                      \n",
      "correct=남자       guess=여자       name=Sammie                        \n",
      "correct=남자       guess=여자       name=Sandy                         \n",
      "correct=남자       guess=여자       name=Shane                         \n",
      "correct=남자       guess=여자       name=Shea                          \n",
      "correct=남자       guess=여자       name=Shelby                        \n",
      "correct=남자       guess=여자       name=Shell                         \n",
      "correct=남자       guess=여자       name=Simone                        \n",
      "correct=남자       guess=여자       name=Skelly                        \n",
      "correct=남자       guess=여자       name=Sky                           \n",
      "correct=남자       guess=여자       name=Sollie                        \n",
      "correct=남자       guess=여자       name=Stacy                         \n",
      "correct=남자       guess=여자       name=Teddie                        \n",
      "correct=남자       guess=여자       name=Terrence                      \n",
      "correct=남자       guess=여자       name=Theodore                      \n",
      "correct=남자       guess=여자       name=Thorny                        \n",
      "correct=남자       guess=여자       name=Tobie                         \n",
      "correct=남자       guess=여자       name=Torre                         \n",
      "correct=남자       guess=여자       name=Torrey                        \n",
      "correct=남자       guess=여자       name=Trace                         \n",
      "correct=남자       guess=여자       name=Troy                          \n",
      "correct=남자       guess=여자       name=Ty                            \n",
      "correct=남자       guess=여자       name=Uli                           \n",
      "correct=남자       guess=여자       name=Vergil                        \n",
      "correct=남자       guess=여자       name=Warde                         \n",
      "correct=남자       guess=여자       name=Waverley                      \n",
      "correct=남자       guess=여자       name=Wayne                         \n",
      "correct=남자       guess=여자       name=Welch                         \n",
      "correct=남자       guess=여자       name=Wendel                        \n",
      "correct=남자       guess=여자       name=Wiley                         \n",
      "correct=남자       guess=여자       name=Winnie                        \n",
      "correct=남자       guess=여자       name=Yule                          \n",
      "correct=남자       guess=여자       name=Zackariah                     \n",
      "correct=여자       guess=남자       name=Anais                         \n",
      "correct=여자       guess=남자       name=Arlen                         \n",
      "correct=여자       guess=남자       name=Beitris                       \n",
      "correct=여자       guess=남자       name=Berget                        \n",
      "correct=여자       guess=남자       name=Bess                          \n",
      "correct=여자       guess=남자       name=Bev                           \n",
      "correct=여자       guess=남자       name=Brenn                         \n",
      "correct=여자       guess=남자       name=Brier                         \n",
      "correct=여자       guess=남자       name=Brigid                        \n",
      "correct=여자       guess=남자       name=Brynn                         \n",
      "correct=여자       guess=남자       name=Caitrin                       \n",
      "correct=여자       guess=남자       name=Carin                         \n",
      "correct=여자       guess=남자       name=Caro                          \n",
      "correct=여자       guess=남자       name=Carol-Jean                    \n",
      "correct=여자       guess=남자       name=Carolan                       \n",
      "correct=여자       guess=남자       name=Cathrin                       \n",
      "correct=여자       guess=남자       name=Charin                        \n",
      "correct=여자       guess=남자       name=Charleen                      \n",
      "correct=여자       guess=남자       name=Charmion                      \n",
      "correct=여자       guess=남자       name=Cherin                        \n",
      "correct=여자       guess=남자       name=Christan                      \n",
      "correct=여자       guess=남자       name=Corliss                       \n",
      "correct=여자       guess=남자       name=Darb                          \n",
      "correct=여자       guess=남자       name=Deeann                        \n",
      "correct=여자       guess=남자       name=Diahann                       \n",
      "correct=여자       guess=남자       name=Diamond                       \n",
      "correct=여자       guess=남자       name=Dorit                         \n",
      "correct=여자       guess=남자       name=Dyann                         \n",
      "correct=여자       guess=남자       name=Ealasaid                      \n",
      "correct=여자       guess=남자       name=Fallon                        \n",
      "correct=여자       guess=남자       name=Fawn                          \n",
      "correct=여자       guess=남자       name=Fleur                         \n",
      "correct=여자       guess=남자       name=Gus                           \n",
      "correct=여자       guess=남자       name=Gwyn                          \n",
      "correct=여자       guess=남자       name=Helyn                         \n",
      "correct=여자       guess=남자       name=Isador                        \n",
      "correct=여자       guess=남자       name=Jacklin                       \n",
      "correct=여자       guess=남자       name=Jaquelyn                      \n",
      "correct=여자       guess=남자       name=Jasmin                        \n",
      "correct=여자       guess=남자       name=Jessalin                      \n",
      "correct=여자       guess=남자       name=Jessalyn                      \n",
      "correct=여자       guess=남자       name=Jessamyn                      \n",
      "correct=여자       guess=남자       name=Jesselyn                      \n",
      "correct=여자       guess=남자       name=Jo-Ann                        \n",
      "correct=여자       guess=남자       name=Jojo                          \n",
      "correct=여자       guess=남자       name=Joselyn                       \n",
      "correct=여자       guess=남자       name=Joslyn                        \n",
      "correct=여자       guess=남자       name=Kaitlyn                       \n",
      "correct=여자       guess=남자       name=Karleen                       \n",
      "correct=여자       guess=남자       name=Karlyn                        \n",
      "correct=여자       guess=남자       name=Karmen                        \n",
      "correct=여자       guess=남자       name=Kellen                        \n",
      "correct=여자       guess=남자       name=Kellyann                      \n",
      "correct=여자       guess=남자       name=Kerstin                       \n",
      "correct=여자       guess=남자       name=Kylynn                        \n",
      "correct=여자       guess=남자       name=Lamb                          \n",
      "correct=여자       guess=남자       name=Leanor                        \n",
      "correct=여자       guess=남자       name=Lynnet                        \n",
      "correct=여자       guess=남자       name=Madelin                       \n",
      "correct=여자       guess=남자       name=Madelon                       \n",
      "correct=여자       guess=남자       name=Madlin                        \n",
      "correct=여자       guess=남자       name=Magdalen                      \n",
      "correct=여자       guess=남자       name=Maren                         \n",
      "correct=여자       guess=남자       name=Margot                        \n",
      "correct=여자       guess=남자       name=Marilin                       \n",
      "correct=여자       guess=남자       name=Marilyn                       \n",
      "correct=여자       guess=남자       name=Melisent                      \n",
      "correct=여자       guess=남자       name=Millisent                     \n",
      "correct=여자       guess=남자       name=Min                           \n",
      "correct=여자       guess=남자       name=Miriam                        \n",
      "correct=여자       guess=남자       name=Morgen                        \n",
      "correct=여자       guess=남자       name=Ninon                         \n",
      "correct=여자       guess=남자       name=Noelyn                        \n",
      "correct=여자       guess=남자       name=Persis                        \n",
      "correct=여자       guess=남자       name=Raven                         \n",
      "correct=여자       guess=남자       name=Riannon                       \n",
      "correct=여자       guess=남자       name=Robbyn                        \n",
      "correct=여자       guess=남자       name=Ryann                         \n",
      "correct=여자       guess=남자       name=Shannen                       \n",
      "correct=여자       guess=남자       name=Sher                          \n",
      "correct=여자       guess=남자       name=Sib                           \n",
      "correct=여자       guess=남자       name=Sigrid                        \n",
      "correct=여자       guess=남자       name=Siobhan                       \n",
      "correct=여자       guess=남자       name=Suzan                         \n",
      "correct=여자       guess=남자       name=Tamar                         \n",
      "correct=여자       guess=남자       name=Terri-Jo                      \n",
      "correct=여자       guess=남자       name=Vivian                        \n",
      "correct=여자       guess=남자       name=Vivyan                        \n",
      "correct=여자       guess=남자       name=Willyt                        \n",
      "correct=여자       guess=남자       name=Wren                          \n",
      "correct=여자       guess=남자       name=Yoko                          \n"
     ]
    }
   ],
   "source": [
    "for (tag, guess, name) in sorted(errors):\n",
    "    print('correct={:<8} guess={:<8s} name={:<30}'.format(tag, guess, name))"
   ]
  },
  {
   "cell_type": "code",
   "execution_count": 46,
   "metadata": {},
   "outputs": [],
   "source": [
    "def gender_features(word):\n",
    "    return {'suffix1': word[-1:],\n",
    "            'suffix2': word[-2:]}"
   ]
  },
  {
   "cell_type": "code",
   "execution_count": 47,
   "metadata": {},
   "outputs": [
    {
     "name": "stdout",
     "output_type": "stream",
     "text": [
      "0.792\n"
     ]
    }
   ],
   "source": [
    "train_set = [(gender_features(n), gender) for (n, gender) in train_names]\n",
    "devtest_set = [(gender_features(n), gender) for (n, gender) in devtest_names]\n",
    "classifier = nltk.NaiveBayesClassifier.train(train_set)\n",
    "print(nltk.classify.accuracy(classifier, devtest_set))"
   ]
  },
  {
   "cell_type": "code",
   "execution_count": 48,
   "metadata": {},
   "outputs": [
    {
     "data": {
      "text/plain": [
       "[('Ninetta', '여자'),\n",
       " ('Kristopher', '남자'),\n",
       " ('Astrix', '여자'),\n",
       " ('Laurene', '여자'),\n",
       " ('Marcile', '여자'),\n",
       " ('Allis', '여자'),\n",
       " ('Clari', '여자'),\n",
       " ('Wolfie', '남자'),\n",
       " ('Daisey', '여자'),\n",
       " ('Tella', '여자'),\n",
       " ('Bonny', '여자'),\n",
       " ('Cecilla', '여자'),\n",
       " ('Elmer', '남자'),\n",
       " ('Valentine', '남자'),\n",
       " ('Titus', '남자'),\n",
       " ('Mellisa', '여자'),\n",
       " ('Vasili', '남자'),\n",
       " ('Dimitrou', '남자'),\n",
       " ('Thedrick', '남자'),\n",
       " ('Jamima', '여자')]"
      ]
     },
     "execution_count": 48,
     "metadata": {},
     "output_type": "execute_result"
    }
   ],
   "source": [
    "# train_set[:20]\n",
    "train_names[:20]"
   ]
  }
 ],
 "metadata": {
  "kernelspec": {
   "display_name": "Python 3",
   "language": "python",
   "name": "python3"
  },
  "language_info": {
   "codemirror_mode": {
    "name": "ipython",
    "version": 3
   },
   "file_extension": ".py",
   "mimetype": "text/x-python",
   "name": "python",
   "nbconvert_exporter": "python",
   "pygments_lexer": "ipython3",
   "version": "3.7.3"
  }
 },
 "nbformat": 4,
 "nbformat_minor": 2
}
